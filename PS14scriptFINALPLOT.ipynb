{
 "cells": [
  {
   "cell_type": "code",
   "execution_count": 1,
   "metadata": {
    "scrolled": true
   },
   "outputs": [
    {
     "name": "stderr",
     "output_type": "stream",
     "text": [
      "── Attaching packages ─────────────────────────────────────── tidyverse 1.2.1 ──\n",
      "✔ ggplot2 3.0.0     ✔ purrr   0.2.5\n",
      "✔ tibble  1.4.2     ✔ dplyr   0.7.6\n",
      "✔ tidyr   0.8.1     ✔ stringr 1.3.1\n",
      "✔ readr   1.1.1     ✔ forcats 0.3.0\n",
      "── Conflicts ────────────────────────────────────────── tidyverse_conflicts() ──\n",
      "✖ dplyr::between()   masks data.table::between()\n",
      "✖ dplyr::filter()    masks stats::filter()\n",
      "✖ dplyr::first()     masks data.table::first()\n",
      "✖ dplyr::lag()       masks stats::lag()\n",
      "✖ dplyr::last()      masks data.table::last()\n",
      "✖ purrr::transpose() masks data.table::transpose()\n",
      "Warning message:\n",
      "“package ‘ggpubr’ was built under R version 3.5.2”Loading required package: magrittr\n",
      "\n",
      "Attaching package: ‘magrittr’\n",
      "\n",
      "The following object is masked from ‘package:purrr’:\n",
      "\n",
      "    set_names\n",
      "\n",
      "The following object is masked from ‘package:tidyr’:\n",
      "\n",
      "    extract\n",
      "\n",
      "Loading required package: Matrix\n",
      "\n",
      "Attaching package: ‘Matrix’\n",
      "\n",
      "The following object is masked from ‘package:tidyr’:\n",
      "\n",
      "    expand\n",
      "\n",
      "Loading required package: foreach\n",
      "\n",
      "Attaching package: ‘foreach’\n",
      "\n",
      "The following objects are masked from ‘package:purrr’:\n",
      "\n",
      "    accumulate, when\n",
      "\n",
      "Loaded glmnet 2.0-16\n",
      "\n",
      "Loading required package: lattice\n",
      "\n",
      "Attaching package: ‘caret’\n",
      "\n",
      "The following object is masked from ‘package:purrr’:\n",
      "\n",
      "    lift\n",
      "\n",
      "Welcome! Related Books: `Practical Guide To Cluster Analysis in R` at https://goo.gl/13EFCZ\n",
      "\n",
      "Attaching package: ‘Metrics’\n",
      "\n",
      "The following objects are masked from ‘package:caret’:\n",
      "\n",
      "    precision, recall\n",
      "\n",
      "The following object is masked from ‘package:glmnet’:\n",
      "\n",
      "    auc\n",
      "\n",
      "Warning message:\n",
      "“package ‘gplots’ was built under R version 3.5.2”\n",
      "Attaching package: ‘gplots’\n",
      "\n",
      "The following object is masked from ‘package:stats’:\n",
      "\n",
      "    lowess\n",
      "\n",
      "Warning message:\n",
      "“package ‘e1071’ was built under R version 3.5.2”\n",
      "Attaching package: ‘reshape2’\n",
      "\n",
      "The following object is masked from ‘package:tidyr’:\n",
      "\n",
      "    smiths\n",
      "\n",
      "The following objects are masked from ‘package:data.table’:\n",
      "\n",
      "    dcast, melt\n",
      "\n",
      "\n",
      "Attaching package: ‘gridExtra’\n",
      "\n",
      "The following object is masked from ‘package:dplyr’:\n",
      "\n",
      "    combine\n",
      "\n",
      "Warning message:\n",
      "“package ‘ggcorrplot’ was built under R version 3.5.2”Warning message:\n",
      "“package ‘SciencesPo’ was built under R version 3.5.2”SciencesPo 1.4.1\n",
      "\n",
      "Attaching package: ‘SciencesPo’\n",
      "\n",
      "The following objects are masked from ‘package:ggpubr’:\n",
      "\n",
      "    rotate_x_text, rotate_y_text\n",
      "\n",
      "The following object is masked from ‘package:stringr’:\n",
      "\n",
      "    words\n",
      "\n"
     ]
    }
   ],
   "source": [
    "#libs <- c(\"data.table\", \"tidyverse\", \"dlpyr\", \"ggpubr\", \"glmnet\",\"caret\",\"factoextra\",\"Metrics\",\"\n",
    "#readr\",\"gplots\",\"ROCR\",\"readxl\",\"e1071\",\"ggplot2\",\"reshape2\",\"gridExtra\",\"ggcorrplot\")\n",
    "\n",
    "#####have to install \"SciencesPo\" - separately tar.gz #####\n",
    "\n",
    "#for(i in libs) {\n",
    "\n",
    "#install.packages(i)\n",
    "#}\n",
    "\n",
    "\n",
    "library(base)\n",
    "library(data.table)\n",
    "library(tidyverse)\n",
    "#library(devtools)\n",
    "#library(car)\n",
    "library(ggpubr)\n",
    "library(glmnet)\n",
    "#library(summarytools)\n",
    "#library(knitr)\n",
    "#library(htmltools)\n",
    "#library(corrplot)\n",
    "library(caret)\n",
    "library(factoextra)\n",
    "library(Metrics)\n",
    "library(readr)\n",
    "library(gplots)\n",
    "library(dplyr)\n",
    "#library(stringr)\n",
    "library(ROCR)\n",
    "library(readxl)\n",
    "library(e1071)\n",
    "library(ggplot2)\n",
    "library(reshape2)\n",
    "library(gridExtra)\n",
    "library(ggcorrplot)\n",
    "library(SciencesPo);"
   ]
  },
  {
   "cell_type": "code",
   "execution_count": 2,
   "metadata": {
    "scrolled": false
   },
   "outputs": [
    {
     "name": "stderr",
     "output_type": "stream",
     "text": [
      "Parsed with column specification:\n",
      "cols(\n",
      "  .default = col_integer(),\n",
      "  PS14 = col_double(),\n",
      "  `WBC [109/L]_T1` = col_double(),\n",
      "  `NEUT [109/L]_T1` = col_double(),\n",
      "  `LYMPH [109/L]_T1` = col_double(),\n",
      "  `MONO [109/L]_T1` = col_double(),\n",
      "  `IG [109/L]_T1` = col_double(),\n",
      "  `NEUT %_T1` = col_double(),\n",
      "  `LYMPH %_T1` = col_double(),\n",
      "  `MONO %_T1` = col_double(),\n",
      "  `IG %_T1` = col_double(),\n",
      "  `Increase_CD11b + fMLF (MedFI)_T1` = col_double(),\n",
      "  `Decrease_CD62L + FMLF (MedFI)_T1` = col_double(),\n",
      "  `% CD16BRIGHT CD62LDIM_T1` = col_double(),\n",
      "  `CD16BRIGHT CD62LDIM [106/L]_T1` = col_double(),\n",
      "  `% CD14+ 16-_T1` = col_double(),\n",
      "  `% CD14+ 16+_T1` = col_double(),\n",
      "  `% CD14+ HLA-DRLow/Neg_T1` = col_double(),\n",
      "  `CD14+ HLA-DRLow/Neg (x106/L)_T1` = col_double(),\n",
      "  `IL1-Ra_T1` = col_double(),\n",
      "  `IL-6_T1` = col_double()\n",
      "  # ... with 58 more columns\n",
      ")\n",
      "See spec(...) for full column specifications.\n"
     ]
    },
    {
     "data": {
      "text/plain": [
       "\n",
       "FALSE  TRUE \n",
       "10319  1637 "
      ]
     },
     "metadata": {},
     "output_type": "display_data"
    },
    {
     "name": "stdout",
     "output_type": "stream",
     "text": [
      "'data.frame':\t61 obs. of  196 variables:\n",
      " $ ISS                             : num  11 9 14 4 24 10 16 9 20 16 ...\n",
      " $ NISS                            : num  11 22 17 12 34 11 29 18 29 16 ...\n",
      " $ PS14                            : num  97.2 99.6 99.1 99.9 87.3 ...\n",
      " $ Age                             : num  41 22 47 38 78 32 45 19 27 26 ...\n",
      " $ WBC..109.L._T1                  : num  26.16 8.28 9.24 11.54 17.43 ...\n",
      " $ NEUT..109.L._T1                 : num  21.95 4.21 4.52 6.37 12.48 ...\n",
      " $ LYMPH..109.L._T1                : num  1.6 3.53 3.73 4.18 3.46 3.57 9.96 2.15 5.75 3.83 ...\n",
      " $ MONO..109.L._T1                 : num  2.58 0.33 0.45 0.65 1.1 0.53 1.18 0.51 0.73 0.66 ...\n",
      " $ IG..109.L._T1                   : num  0.1 0.04 0.16 0.09 0.38 0.19 0.33 0.01 0.06 0.09 ...\n",
      " $ NEUT.._T1                       : num  83.9 50.9 49 55.2 71.7 44.1 40.5 63.2 42.1 64.1 ...\n",
      " $ LYMPH.._T1                      : num  6.1 42.6 40.3 36.2 19.8 46.1 50.4 28.5 49.6 29.7 ...\n",
      " $ MONO.._T1                       : num  9.9 3.9 4.9 5.6 6.3 7 6 6.7 6.3 5.1 ...\n",
      " $ IG.._T1                         : num  0.4 0.5 1.7 0.8 2.2 2.5 1.6 0.2 0.5 0.7 ...\n",
      " $ ROS.TO.PMA...._T1               : num  100 99 68 95 100 100 94 NA NA NA ...\n",
      " $ ROS.TO.PMA..MFI._T1             : num  169153 164974 21583 75144 186728 ...\n",
      " $ CD62L..MedFI._T1                : num  16455 19617 25915 25272 19220 ...\n",
      " $ CD88..MedFI._T1                 : num  62388 96814 76704 103145 47484 ...\n",
      " $ CD16..MedFI....23_T1            : num  32057 152209 144836 182530 152384 ...\n",
      " $ CD11B..MedFI._T1                : num  38432 18353 34093 15346 83069 ...\n",
      " $ CXCR1..MedFI._T1                : num  10948 13047 16501 17521 13416 ...\n",
      " $ CXCR2..MedFI._T1                : num  12099 28100 19732 28698 11981 ...\n",
      " $ CD11B...FMLF..MedFI._T1         : num  126850 105150 105097 59486 135886 ...\n",
      " $ Increase_CD11b...fMLF..MedFI._T1: num  3.3 5.73 3.1 3.88 1.64 ...\n",
      " $ CD63..MedFI._T1                 : num  972 2828 2974 4298 1003 ...\n",
      " $ CD62L...FMLF..MedFI._T1         : num  1851 1030 4009 NA 2627 ...\n",
      " $ Decrease_CD62L...FMLF..MedFI._T1: num  8.89 19.05 6.46 NA 7.32 ...\n",
      " $ X..CD16BRIGHT.CD62LDIM_T1       : num  4.2 3.9 4.7 3.6 17.5 7.6 7.2 4.3 3.7 20.7 ...\n",
      " $ CD16BRIGHT.CD62LDIM..106.L._T1  : num  922 164 212 229 2184 ...\n",
      " $ CD16....ve_T1                   : num  3 4 NA 16 5 8 12 8 3 1 ...\n",
      " $ CD16..MedFI....35_T1            : num  0 1 NA 1 0 2 1 1 0 0 ...\n",
      " $ X..CD14..16._T1                 : num  98.5 97 NA 87.6 95.4 ...\n",
      " $ X..CD14..16._T1.1               : num  1.52 3.01 NA 12.39 4.64 ...\n",
      " $ CD14..16...x106.L._T1           : num  2540 320 NA 570 1049 ...\n",
      " $ CD14..16...x106.L._T1.1         : num  40 10 NA 80 51 33 118 31 17 7 ...\n",
      " $ X..HLA.DR..ve_T1                : num  96 99 NA 99 99 100 100 100 100 99 ...\n",
      " $ HLA.DR..MedFI._T1               : num  63 159 NA 249 178 256 257 165 309 118 ...\n",
      " $ X..CD14..HLA.DRLow.Neg_T1       : num  9.48 6.41 NA 9.58 7.48 4.36 5 8.33 8.76 6.36 ...\n",
      " $ CD14..HLA.DRLow.Neg..x106.L._T1 : num  245 21.2 NA 62.3 82 ...\n",
      " $ X..TLR4..ve_T1                  : num  38 51 NA 64 45 30 48 77 61 40 ...\n",
      " $ TLR4..MedFI._T1                 : num  6 8 NA 11 8 5 8 11 10 7 ...\n",
      " $ X..TLR2..ve_T1                  : num  99 100 NA 100 100 100 100 100 100 100 ...\n",
      " $ TLR2..MedFI._T1                 : num  134 207 NA 247 358 83 358 166 222 154 ...\n",
      " $ X..CD86..ve_T1                  : num  96 100 NA 99 100 100 100 100 100 99 ...\n",
      " $ CD86..MedFI._T1                 : num  46 81 NA 67 94 63 123 93 71 47 ...\n",
      " $ B.cells..x106.L._T1             : num  144 459 NA NA NA 178 896 280 345 460 ...\n",
      " $ NK.cells..x106.L._T1            : num  306 685 NA NA NA ...\n",
      " $ CD56DIM.NK.cells..x106.L._T1    : num  300 660 NA NA NA ...\n",
      " $ CD56BRIGHT.NK.cells..x106.L._T1 : num  6 25 NA NA NA 25 78 25 106 31 ...\n",
      " $ NKT.cells..x106.L._T1           : num  8 508 NA NA NA 206 195 83 562 192 ...\n",
      " $ CD3...106.L._T1                 : num  731 2194 NA 2637 NA ...\n",
      " $ CD3..4...106.L._T1              : num  585 864 NA 1481 NA ...\n",
      " $ Term_Helper_T1                  : num  15 28 NA 42 NA 48 56 43 85 17 ...\n",
      " $ Naive_Helper_T1                 : num  318 566 NA 614 NA ...\n",
      " $ Central_Mem_Helper_T1           : num  146 148 NA 472 NA ...\n",
      " $ Eff_Mem_Helper_T1               : num  106 122 NA 353 NA 280 958 174 425 148 ...\n",
      " $ CD3..8...106.L._T1              : num  123 1226 NA 815 NA ...\n",
      " $ Term_Cyto_T1                    : num  27 825 NA 175 NA 808 392 241 879 299 ...\n",
      " $ Naive_Cyto_T1                   : num  70 321 NA 191 NA 250 263 152 285 146 ...\n",
      " $ Central_Mem_Cyto_T1             : num  6 6 NA 127 NA 38 171 8 12 41 ...\n",
      " $ Eff_Mem_Cyto_T1                 : num  20 74 NA 322 NA ...\n",
      " $ IL1.Ra_T1                       : num  NA 92.2 353.5 1244.5 NA ...\n",
      " $ IL.6_T1                         : num  NA 9.93 29.61 447.76 NA ...\n",
      " $ IL.8_T1                         : num  NA 28.3 44.9 36 NA ...\n",
      " $ IL.10_T1                        : num  NA 30.9 834.3 2139.1 NA ...\n",
      " $ G.CSF_T1                        : num  NA 57.1 103.7 73.3 NA ...\n",
      " $ MCP.1_T1                        : num  NA 0.01 0.01 586.79 NA ...\n",
      " $ TNF.A_T1                        : num  NA 59.8 83.2 1273.9 NA ...\n",
      " $ Cortisol..ng.ml._T1             : num  601 170 228 171 247 ...\n",
      " $ WBC..109.L._T2                  : num  15.78 8.92 10.84 35.39 21.31 ...\n",
      " $ NEUT..109.L._T2                 : num  11.75 7.31 8.62 31.43 17.55 ...\n",
      " $ LYMPH..109.L._T2                : num  2.1 1.03 1.46 2.02 1.55 0.59 2.19 1.34 0.69 1.27 ...\n",
      " $ MONO..109.L._T2                 : num  1.91 0.56 0.66 1.85 2.15 1.23 1.07 0.77 1.13 1.94 ...\n",
      " $ IG..109.L._T2                   : num  0.06 0.02 0.03 0.46 0.21 0.14 0.08 0.04 0.03 0.04 ...\n",
      " $ NEUT.._T2                       : num  74.4 82 79.6 88.8 82.3 90 81 85.8 87.4 81.6 ...\n",
      " $ LYMPH.._T2                      : num  13.3 11.6 13.5 5.7 7.3 3.2 12.5 8.9 4.7 7.2 ...\n",
      " $ MONO.._T2                       : num  12.1 6.3 6.1 5.2 10.1 6.6 6.1 5.1 7.8 11 ...\n",
      " $ IG.._T2                         : num  0.4 0.3 0.3 1.3 1 0.8 0.4 0.3 0.2 0.3 ...\n",
      " $ ROS.TO.PMA...._T2               : num  100 15 68 98 100 100 94 100 NA NA ...\n",
      " $ ROS.TO.PMA..MFI._T2             : num  83311 5809 25902 84190 62623 ...\n",
      " $ CD62L..MedFI._T2                : num  13601 17726 22321 29558 22198 ...\n",
      " $ CD88..MedFI._T2                 : num  36251 96277 92841 80859 63157 ...\n",
      " $ CD16..MedFI....15_T2            : num  26408 65096 128733 52715 69678 ...\n",
      " $ CD11B..MedFI._T2                : num  18628 31484 17665 9963 25450 ...\n",
      " $ CXCR1..MedFI._T2                : num  12535 6282 17923 11530 11588 ...\n",
      " $ CXCR2..MedFI._T2                : num  11354 8119 19700 15666 8386 ...\n",
      " $ CD11B...FMLF..MedFI._T2         : num  57751 91579 98049 46021 89104 ...\n",
      " $ Increase_CD11b...fMLF..MedFI._T2: num  3.1 2.91 5.55 4.62 3.5 ...\n",
      " $ CD63..MedFI._T2                 : num  1704 988 2899 1127 723 ...\n",
      " $ CD62L...FMLF..MedFI._T2         : num  1382 1211 2390 NA 3300 ...\n",
      " $ Decrease_CD62L...FMLF..MedFI._T2: num  9.84 14.64 9.34 NA 6.73 ...\n",
      " $ X..CD16BRIGHT.CD62LDIM_T2       : num  5.1 7.6 7.6 7.9 10.6 4.3 7.6 4.4 14.8 5 ...\n",
      " $ CD16BRIGHT.CD62LDIM..106.L._T2  : num  599 556 655 2483 1860 ...\n",
      " $ CD16....ve_T2                   : num  12 5 NA 15 6 2 4 6 5 3 ...\n",
      " $ CD16..MedFI....27_T2            : num  1 0 NA 1 0 0 1 1 0 0 ...\n",
      " $ X..CD14..16._T2                 : num  91.3 97.5 NA 91.2 93.6 ...\n",
      " $ X..CD14..16._T2.1               : num  8.68 2.5 NA 8.76 6.36 1.16 2.32 4.78 4.04 2.22 ...\n",
      " $ CD14..16...x106.L._T2           : num  1744 546 NA 1690 2013 ...\n",
      " $ CD14..16...x106.L._T2.1         : num  166 14 NA 160 137 15 25 37 46 43 ...\n",
      " $ X..HLA.DR..ve_T2                : num  94 100 NA 98 98 98 98 97 98 94 ...\n",
      "  [list output truncated]\n",
      "[1] \"Final normalized and imputed dataset \"\n"
     ]
    },
    {
     "data": {
      "text/html": [
       "<table>\n",
       "<thead><tr><th scope=col>ISS</th><th scope=col>NISS</th><th scope=col>PS14</th><th scope=col>Age</th><th scope=col>WBC [109/L]_T1</th><th scope=col>NEUT [109/L]_T1</th><th scope=col>LYMPH [109/L]_T1</th><th scope=col>MONO [109/L]_T1</th><th scope=col>IG [109/L]_T1</th><th scope=col>NEUT %_T1</th><th scope=col>⋯</th><th scope=col>Eff_Mem_Cyto_T3</th><th scope=col>IL1-Ra_T3</th><th scope=col>IL-6_T3</th><th scope=col>IL-8_T3</th><th scope=col>IL-10_T3</th><th scope=col>G-CSF_T3</th><th scope=col>MCP-1_T3</th><th scope=col>TNF-A_T3</th><th scope=col>Cortisol (ng/ml)_T3</th><th scope=col>Label</th></tr></thead>\n",
       "<tbody>\n",
       "\t<tr><td>-1.0464636  </td><td>-1.3838429  </td><td>0.6694777   </td><td> 0.02292171 </td><td> 2.1290636  </td><td> 2.8295744  </td><td>-1.3981345  </td><td> 3.7586484  </td><td>-0.4697766  </td><td> 1.92180514 </td><td>⋯           </td><td> 0.4253299  </td><td>-0.4717103  </td><td>-0.4277698  </td><td>-0.503151559</td><td>-0.19433802 </td><td>-0.3404883  </td><td>-0.4272585  </td><td>-0.30944049 </td><td> 0.2192912  </td><td>N           </td></tr>\n",
       "\t<tr><td>-1.1791752  </td><td>-0.8027674  </td><td>0.7725172   </td><td>-0.96101381 </td><td>-0.9361674  </td><td>-0.8048849  </td><td>-0.4411996  </td><td>-1.1094699  </td><td>-0.7030714  </td><td>-0.34092735 </td><td>⋯           </td><td>-0.4511945  </td><td>-0.1280406  </td><td>-0.2938123  </td><td> 0.073726841</td><td> 0.01478357 </td><td>-0.1414413  </td><td>-0.4152482  </td><td>-0.21377984 </td><td>-0.3116227  </td><td>Y           </td></tr>\n",
       "\t<tr><td>-0.8473962  </td><td>-1.0668926  </td><td>0.7511861   </td><td> 0.33363819 </td><td>-0.7715913  </td><td>-0.7413741  </td><td>-0.3420354  </td><td>-0.8498369  </td><td>-0.2364818  </td><td>-0.47120589 </td><td>⋯           </td><td>-0.9576309  </td><td>-0.2352173  </td><td>-0.3715281  </td><td>-0.005590231</td><td> 0.43054469 </td><td>-0.1531610  </td><td>-0.4272585  </td><td>-0.01629675 </td><td> 0.2249514  </td><td>N           </td></tr>\n",
       "\t<tr><td>-1.5109542  </td><td>-1.3310178  </td><td>0.7834649   </td><td>-0.13243653 </td><td>-0.3772942  </td><td>-0.3623578  </td><td>-0.1189158  </td><td>-0.4171153  </td><td>-0.5086591  </td><td>-0.04608645 </td><td>⋯           </td><td>-0.3538029  </td><td> 2.4639616  </td><td> 2.1731424  </td><td> 1.329943099</td><td> 7.57598291 </td><td> 0.4075845  </td><td> 2.2686327  </td><td> 5.14876658 </td><td> 0.3775903  </td><td>N           </td></tr>\n",
       "\t<tr><td>-0.1838382  </td><td>-0.1688669  </td><td>0.2418910   </td><td> 1.93900666 </td><td> 0.6324491  </td><td> 0.8894205  </td><td>-0.4759071  </td><td> 0.5565084  </td><td> 0.6189323  </td><td> 1.08527979 </td><td>⋯           </td><td> 0.2110684  </td><td>-0.4717103  </td><td>-0.4277698  </td><td>-0.503151559</td><td>-0.19433802 </td><td>-0.3404883  </td><td>-0.4272585  </td><td>-0.30944049 </td><td> 1.1099962  </td><td>Y           </td></tr>\n",
       "\t<tr><td>-1.1128194  </td><td>-1.3838429  </td><td>0.7344444   </td><td>-0.44315301 </td><td>-1.0287415  </td><td>-0.9667352  </td><td>-0.4213667  </td><td>-0.6767482  </td><td>-0.1198345  </td><td>-0.80718738 </td><td>⋯           </td><td>-0.5680645  </td><td>-0.3879266  </td><td>-0.3690971  </td><td>-0.431449718</td><td>-0.16970279 </td><td>-0.3010821  </td><td>-0.3147455  </td><td>-0.18519963 </td><td>-0.2967703  </td><td>N           </td></tr>\n",
       "</tbody>\n",
       "</table>\n"
      ],
      "text/latex": [
       "\\begin{tabular}{r|lllllllllllllllllllllllllllllllllllllllllllllllllllllllllllllllllllllllllllllllllllllllllllllllllllllllllllllllllllllllllllllllllllllllllllllllllllllllllllllllllllllllllllllllllllllllllllllllllllll}\n",
       " ISS & NISS & PS14 & Age & WBC {[}109/L{]}\\_T1 & NEUT {[}109/L{]}\\_T1 & LYMPH {[}109/L{]}\\_T1 & MONO {[}109/L{]}\\_T1 & IG {[}109/L{]}\\_T1 & NEUT \\%\\_T1 & ⋯ & Eff\\_Mem\\_Cyto\\_T3 & IL1-Ra\\_T3 & IL-6\\_T3 & IL-8\\_T3 & IL-10\\_T3 & G-CSF\\_T3 & MCP-1\\_T3 & TNF-A\\_T3 & Cortisol (ng/ml)\\_T3 & Label\\\\\n",
       "\\hline\n",
       "\t -1.0464636   & -1.3838429   & 0.6694777    &  0.02292171  &  2.1290636   &  2.8295744   & -1.3981345   &  3.7586484   & -0.4697766   &  1.92180514  & ⋯            &  0.4253299   & -0.4717103   & -0.4277698   & -0.503151559 & -0.19433802  & -0.3404883   & -0.4272585   & -0.30944049  &  0.2192912   & N           \\\\\n",
       "\t -1.1791752   & -0.8027674   & 0.7725172    & -0.96101381  & -0.9361674   & -0.8048849   & -0.4411996   & -1.1094699   & -0.7030714   & -0.34092735  & ⋯            & -0.4511945   & -0.1280406   & -0.2938123   &  0.073726841 &  0.01478357  & -0.1414413   & -0.4152482   & -0.21377984  & -0.3116227   & Y           \\\\\n",
       "\t -0.8473962   & -1.0668926   & 0.7511861    &  0.33363819  & -0.7715913   & -0.7413741   & -0.3420354   & -0.8498369   & -0.2364818   & -0.47120589  & ⋯            & -0.9576309   & -0.2352173   & -0.3715281   & -0.005590231 &  0.43054469  & -0.1531610   & -0.4272585   & -0.01629675  &  0.2249514   & N           \\\\\n",
       "\t -1.5109542   & -1.3310178   & 0.7834649    & -0.13243653  & -0.3772942   & -0.3623578   & -0.1189158   & -0.4171153   & -0.5086591   & -0.04608645  & ⋯            & -0.3538029   &  2.4639616   &  2.1731424   &  1.329943099 &  7.57598291  &  0.4075845   &  2.2686327   &  5.14876658  &  0.3775903   & N           \\\\\n",
       "\t -0.1838382   & -0.1688669   & 0.2418910    &  1.93900666  &  0.6324491   &  0.8894205   & -0.4759071   &  0.5565084   &  0.6189323   &  1.08527979  & ⋯            &  0.2110684   & -0.4717103   & -0.4277698   & -0.503151559 & -0.19433802  & -0.3404883   & -0.4272585   & -0.30944049  &  1.1099962   & Y           \\\\\n",
       "\t -1.1128194   & -1.3838429   & 0.7344444    & -0.44315301  & -1.0287415   & -0.9667352   & -0.4213667   & -0.6767482   & -0.1198345   & -0.80718738  & ⋯            & -0.5680645   & -0.3879266   & -0.3690971   & -0.431449718 & -0.16970279  & -0.3010821   & -0.3147455   & -0.18519963  & -0.2967703   & N           \\\\\n",
       "\\end{tabular}\n"
      ],
      "text/markdown": [
       "\n",
       "ISS | NISS | PS14 | Age | WBC [109/L]_T1 | NEUT [109/L]_T1 | LYMPH [109/L]_T1 | MONO [109/L]_T1 | IG [109/L]_T1 | NEUT %_T1 | ⋯ | Eff_Mem_Cyto_T3 | IL1-Ra_T3 | IL-6_T3 | IL-8_T3 | IL-10_T3 | G-CSF_T3 | MCP-1_T3 | TNF-A_T3 | Cortisol (ng/ml)_T3 | Label | \n",
       "|---|---|---|---|---|---|\n",
       "| -1.0464636   | -1.3838429   | 0.6694777    |  0.02292171  |  2.1290636   |  2.8295744   | -1.3981345   |  3.7586484   | -0.4697766   |  1.92180514  | ⋯            |  0.4253299   | -0.4717103   | -0.4277698   | -0.503151559 | -0.19433802  | -0.3404883   | -0.4272585   | -0.30944049  |  0.2192912   | N            | \n",
       "| -1.1791752   | -0.8027674   | 0.7725172    | -0.96101381  | -0.9361674   | -0.8048849   | -0.4411996   | -1.1094699   | -0.7030714   | -0.34092735  | ⋯            | -0.4511945   | -0.1280406   | -0.2938123   |  0.073726841 |  0.01478357  | -0.1414413   | -0.4152482   | -0.21377984  | -0.3116227   | Y            | \n",
       "| -0.8473962   | -1.0668926   | 0.7511861    |  0.33363819  | -0.7715913   | -0.7413741   | -0.3420354   | -0.8498369   | -0.2364818   | -0.47120589  | ⋯            | -0.9576309   | -0.2352173   | -0.3715281   | -0.005590231 |  0.43054469  | -0.1531610   | -0.4272585   | -0.01629675  |  0.2249514   | N            | \n",
       "| -1.5109542   | -1.3310178   | 0.7834649    | -0.13243653  | -0.3772942   | -0.3623578   | -0.1189158   | -0.4171153   | -0.5086591   | -0.04608645  | ⋯            | -0.3538029   |  2.4639616   |  2.1731424   |  1.329943099 |  7.57598291  |  0.4075845   |  2.2686327   |  5.14876658  |  0.3775903   | N            | \n",
       "| -0.1838382   | -0.1688669   | 0.2418910    |  1.93900666  |  0.6324491   |  0.8894205   | -0.4759071   |  0.5565084   |  0.6189323   |  1.08527979  | ⋯            |  0.2110684   | -0.4717103   | -0.4277698   | -0.503151559 | -0.19433802  | -0.3404883   | -0.4272585   | -0.30944049  |  1.1099962   | Y            | \n",
       "| -1.1128194   | -1.3838429   | 0.7344444    | -0.44315301  | -1.0287415   | -0.9667352   | -0.4213667   | -0.6767482   | -0.1198345   | -0.80718738  | ⋯            | -0.5680645   | -0.3879266   | -0.3690971   | -0.431449718 | -0.16970279  | -0.3010821   | -0.3147455   | -0.18519963  | -0.2967703   | N            | \n",
       "\n",
       "\n"
      ],
      "text/plain": [
       "  ISS        NISS       PS14      Age         WBC [109/L]_T1 NEUT [109/L]_T1\n",
       "1 -1.0464636 -1.3838429 0.6694777  0.02292171  2.1290636      2.8295744     \n",
       "2 -1.1791752 -0.8027674 0.7725172 -0.96101381 -0.9361674     -0.8048849     \n",
       "3 -0.8473962 -1.0668926 0.7511861  0.33363819 -0.7715913     -0.7413741     \n",
       "4 -1.5109542 -1.3310178 0.7834649 -0.13243653 -0.3772942     -0.3623578     \n",
       "5 -0.1838382 -0.1688669 0.2418910  1.93900666  0.6324491      0.8894205     \n",
       "6 -1.1128194 -1.3838429 0.7344444 -0.44315301 -1.0287415     -0.9667352     \n",
       "  LYMPH [109/L]_T1 MONO [109/L]_T1 IG [109/L]_T1 NEUT %_T1   ⋯ Eff_Mem_Cyto_T3\n",
       "1 -1.3981345        3.7586484      -0.4697766     1.92180514 ⋯  0.4253299     \n",
       "2 -0.4411996       -1.1094699      -0.7030714    -0.34092735 ⋯ -0.4511945     \n",
       "3 -0.3420354       -0.8498369      -0.2364818    -0.47120589 ⋯ -0.9576309     \n",
       "4 -0.1189158       -0.4171153      -0.5086591    -0.04608645 ⋯ -0.3538029     \n",
       "5 -0.4759071        0.5565084       0.6189323     1.08527979 ⋯  0.2110684     \n",
       "6 -0.4213667       -0.6767482      -0.1198345    -0.80718738 ⋯ -0.5680645     \n",
       "  IL1-Ra_T3  IL-6_T3    IL-8_T3      IL-10_T3    G-CSF_T3   MCP-1_T3  \n",
       "1 -0.4717103 -0.4277698 -0.503151559 -0.19433802 -0.3404883 -0.4272585\n",
       "2 -0.1280406 -0.2938123  0.073726841  0.01478357 -0.1414413 -0.4152482\n",
       "3 -0.2352173 -0.3715281 -0.005590231  0.43054469 -0.1531610 -0.4272585\n",
       "4  2.4639616  2.1731424  1.329943099  7.57598291  0.4075845  2.2686327\n",
       "5 -0.4717103 -0.4277698 -0.503151559 -0.19433802 -0.3404883 -0.4272585\n",
       "6 -0.3879266 -0.3690971 -0.431449718 -0.16970279 -0.3010821 -0.3147455\n",
       "  TNF-A_T3    Cortisol (ng/ml)_T3 Label\n",
       "1 -0.30944049  0.2192912          N    \n",
       "2 -0.21377984 -0.3116227          Y    \n",
       "3 -0.01629675  0.2249514          N    \n",
       "4  5.14876658  0.3775903          N    \n",
       "5 -0.30944049  1.1099962          Y    \n",
       "6 -0.18519963 -0.2967703          N    "
      ]
     },
     "metadata": {},
     "output_type": "display_data"
    },
    {
     "data": {
      "text/plain": [
       "\n",
       "FALSE  TRUE \n",
       "11956    61 "
      ]
     },
     "metadata": {},
     "output_type": "display_data"
    }
   ],
   "source": [
    "\n",
    "X_data_numeric2 <- read_csv(\"/Users/laura/FinalDatasetPS14.csv\")  #### change this\n",
    "\n",
    "\n",
    "X_data_numeric <- X_data_numeric2[,-c(dim(X_data_numeric2)[2])]\n",
    "\n",
    "\n",
    "Names <- names(X_data_numeric)\n",
    "\n",
    "X_data_numeric  <- data.frame(apply(X_data_numeric, 2, as.numeric))\n",
    "\n",
    "table(is.na(X_data_numeric))\n",
    "\n",
    "str(X_data_numeric)\n",
    "\n",
    "for(i in 1:ncol(X_data_numeric)){\n",
    "  X_data_numeric[is.na(X_data_numeric[,i]), i] <- min(data.matrix(X_data_numeric[,i]), na.rm = TRUE)\n",
    "    #or median\n",
    "}\n",
    "\n",
    "NAscol1 <- data.frame(colSums(is.na(X_data_numeric)))\n",
    "\n",
    "\n",
    "X_data_scaled <-data.frame(scale(X_data_numeric))\n",
    "\n",
    "\n",
    "All2 <- data.frame(X_data_scaled, as.factor(X_data_numeric2$Label))\n",
    "names(All2) <- c(Names,\"Label\")\n",
    "\n",
    "print(\"Final normalized and imputed dataset \")\n",
    "head(All2)\n",
    "\n",
    "table(is.na(All2))\n",
    "\n",
    "\n"
   ]
  },
  {
   "cell_type": "markdown",
   "metadata": {},
   "source": [
    "# Introduce final betas for the three time points here"
   ]
  },
  {
   "cell_type": "code",
   "execution_count": 3,
   "metadata": {},
   "outputs": [
    {
     "data": {
      "text/html": [
       "<table>\n",
       "<thead><tr><th scope=col>NISS</th><th scope=col>First Time Monocytes %</th><th scope=col>Third Time CD63 (MedFI)</th><th scope=col>Third Time Decrease in CD62L after FMLF (MedFI)</th><th scope=col>Label</th></tr></thead>\n",
       "<tbody>\n",
       "\t<tr><td>-1.3838429 </td><td> 1.60389375</td><td>0.09697724 </td><td> 0.47460485</td><td>N          </td></tr>\n",
       "\t<tr><td>-0.8027674 </td><td>-1.02732594</td><td>0.29728126 </td><td>-0.24538442</td><td>Y          </td></tr>\n",
       "\t<tr><td>-1.0668926 </td><td>-0.58878932</td><td>1.60334526 </td><td>-0.04596122</td><td>N          </td></tr>\n",
       "\t<tr><td>-1.3310178 </td><td>-0.28181369</td><td>0.78322291 </td><td>-0.88608111</td><td>N          </td></tr>\n",
       "\t<tr><td>-0.1688669 </td><td> 0.02516194</td><td>0.07551609 </td><td>-0.57745420</td><td>Y          </td></tr>\n",
       "\t<tr><td>-1.3838429 </td><td> 0.33213757</td><td>0.07500511 </td><td> 1.32737483</td><td>N          </td></tr>\n",
       "</tbody>\n",
       "</table>\n"
      ],
      "text/latex": [
       "\\begin{tabular}{r|lllll}\n",
       " NISS & First Time Monocytes \\% & Third Time CD63 (MedFI) & Third Time Decrease in CD62L after FMLF (MedFI) & Label\\\\\n",
       "\\hline\n",
       "\t -1.3838429  &  1.60389375 & 0.09697724  &  0.47460485 & N          \\\\\n",
       "\t -0.8027674  & -1.02732594 & 0.29728126  & -0.24538442 & Y          \\\\\n",
       "\t -1.0668926  & -0.58878932 & 1.60334526  & -0.04596122 & N          \\\\\n",
       "\t -1.3310178  & -0.28181369 & 0.78322291  & -0.88608111 & N          \\\\\n",
       "\t -0.1688669  &  0.02516194 & 0.07551609  & -0.57745420 & Y          \\\\\n",
       "\t -1.3838429  &  0.33213757 & 0.07500511  &  1.32737483 & N          \\\\\n",
       "\\end{tabular}\n"
      ],
      "text/markdown": [
       "\n",
       "NISS | First Time Monocytes % | Third Time CD63 (MedFI) | Third Time Decrease in CD62L after FMLF (MedFI) | Label | \n",
       "|---|---|---|---|---|---|\n",
       "| -1.3838429  |  1.60389375 | 0.09697724  |  0.47460485 | N           | \n",
       "| -0.8027674  | -1.02732594 | 0.29728126  | -0.24538442 | Y           | \n",
       "| -1.0668926  | -0.58878932 | 1.60334526  | -0.04596122 | N           | \n",
       "| -1.3310178  | -0.28181369 | 0.78322291  | -0.88608111 | N           | \n",
       "| -0.1688669  |  0.02516194 | 0.07551609  | -0.57745420 | Y           | \n",
       "| -1.3838429  |  0.33213757 | 0.07500511  |  1.32737483 | N           | \n",
       "\n",
       "\n"
      ],
      "text/plain": [
       "  NISS       First Time Monocytes % Third Time CD63 (MedFI)\n",
       "1 -1.3838429  1.60389375            0.09697724             \n",
       "2 -0.8027674 -1.02732594            0.29728126             \n",
       "3 -1.0668926 -0.58878932            1.60334526             \n",
       "4 -1.3310178 -0.28181369            0.78322291             \n",
       "5 -0.1688669  0.02516194            0.07551609             \n",
       "6 -1.3838429  0.33213757            0.07500511             \n",
       "  Third Time Decrease in CD62L after FMLF (MedFI) Label\n",
       "1  0.47460485                                     N    \n",
       "2 -0.24538442                                     Y    \n",
       "3 -0.04596122                                     N    \n",
       "4 -0.88608111                                     N    \n",
       "5 -0.57745420                                     Y    \n",
       "6  1.32737483                                     N    "
      ]
     },
     "metadata": {},
     "output_type": "display_data"
    }
   ],
   "source": [
    "\n",
    "Betas_select <- data.frame(All2$NISS,All2$'MONO %_T1',All2$'CD63 (MedFI)_T3',All2$'Decrease_CD62L + FMLF (MedFI)_T3')\n",
    "\n",
    "\n",
    "Betas_select[\"Label\"]<- All2$Label\n",
    "\n",
    "names(Betas_select) <- c(\"NISS\",\"First Time Monocytes %\",\"Third Time CD63 (MedFI)\",\"Third Time Decrease in CD62L after FMLF (MedFI)\", \"Label\")\n",
    "\n",
    "#names(Betas_select) <- c(\"PS14\",\"First Time Monocytes %\",\"Third Time Decrease in CD62L after FMLF (MedFI)\",\"Third Time HLA-DR (MedFI)\", \"Label\")\n",
    "\n",
    "\n",
    "Betas_select2 <- Betas_select\n",
    "\n",
    "head(Betas_select2)"
   ]
  },
  {
   "cell_type": "code",
   "execution_count": 4,
   "metadata": {},
   "outputs": [
    {
     "data": {
      "text/html": [
       "<table>\n",
       "<thead><tr><th scope=col>NISS</th><th scope=col>First Time Monocytes %</th><th scope=col>Third Time CD63 (MedFI)</th><th scope=col>Third Time Decrease in CD62L after FMLF (MedFI)</th><th scope=col>Label</th></tr></thead>\n",
       "<tbody>\n",
       "\t<tr><td>-1.3838429 </td><td> 1.60389375</td><td>0.09697724 </td><td> 0.47460485</td><td>N          </td></tr>\n",
       "\t<tr><td>-0.8027674 </td><td>-1.02732594</td><td>0.29728126 </td><td>-0.24538442</td><td>Y          </td></tr>\n",
       "\t<tr><td>-1.0668926 </td><td>-0.58878932</td><td>1.60334526 </td><td>-0.04596122</td><td>N          </td></tr>\n",
       "\t<tr><td>-1.3310178 </td><td>-0.28181369</td><td>0.78322291 </td><td>-0.88608111</td><td>N          </td></tr>\n",
       "\t<tr><td>-0.1688669 </td><td> 0.02516194</td><td>0.07551609 </td><td>-0.57745420</td><td>Y          </td></tr>\n",
       "\t<tr><td>-1.3838429 </td><td> 0.33213757</td><td>0.07500511 </td><td> 1.32737483</td><td>N          </td></tr>\n",
       "</tbody>\n",
       "</table>\n"
      ],
      "text/latex": [
       "\\begin{tabular}{r|lllll}\n",
       " NISS & First Time Monocytes \\% & Third Time CD63 (MedFI) & Third Time Decrease in CD62L after FMLF (MedFI) & Label\\\\\n",
       "\\hline\n",
       "\t -1.3838429  &  1.60389375 & 0.09697724  &  0.47460485 & N          \\\\\n",
       "\t -0.8027674  & -1.02732594 & 0.29728126  & -0.24538442 & Y          \\\\\n",
       "\t -1.0668926  & -0.58878932 & 1.60334526  & -0.04596122 & N          \\\\\n",
       "\t -1.3310178  & -0.28181369 & 0.78322291  & -0.88608111 & N          \\\\\n",
       "\t -0.1688669  &  0.02516194 & 0.07551609  & -0.57745420 & Y          \\\\\n",
       "\t -1.3838429  &  0.33213757 & 0.07500511  &  1.32737483 & N          \\\\\n",
       "\\end{tabular}\n"
      ],
      "text/markdown": [
       "\n",
       "NISS | First Time Monocytes % | Third Time CD63 (MedFI) | Third Time Decrease in CD62L after FMLF (MedFI) | Label | \n",
       "|---|---|---|---|---|---|\n",
       "| -1.3838429  |  1.60389375 | 0.09697724  |  0.47460485 | N           | \n",
       "| -0.8027674  | -1.02732594 | 0.29728126  | -0.24538442 | Y           | \n",
       "| -1.0668926  | -0.58878932 | 1.60334526  | -0.04596122 | N           | \n",
       "| -1.3310178  | -0.28181369 | 0.78322291  | -0.88608111 | N           | \n",
       "| -0.1688669  |  0.02516194 | 0.07551609  | -0.57745420 | Y           | \n",
       "| -1.3838429  |  0.33213757 | 0.07500511  |  1.32737483 | N           | \n",
       "\n",
       "\n"
      ],
      "text/plain": [
       "  NISS       First Time Monocytes % Third Time CD63 (MedFI)\n",
       "1 -1.3838429  1.60389375            0.09697724             \n",
       "2 -0.8027674 -1.02732594            0.29728126             \n",
       "3 -1.0668926 -0.58878932            1.60334526             \n",
       "4 -1.3310178 -0.28181369            0.78322291             \n",
       "5 -0.1688669  0.02516194            0.07551609             \n",
       "6 -1.3838429  0.33213757            0.07500511             \n",
       "  Third Time Decrease in CD62L after FMLF (MedFI) Label\n",
       "1  0.47460485                                     N    \n",
       "2 -0.24538442                                     Y    \n",
       "3 -0.04596122                                     N    \n",
       "4 -0.88608111                                     N    \n",
       "5 -0.57745420                                     Y    \n",
       "6  1.32737483                                     N    "
      ]
     },
     "metadata": {},
     "output_type": "display_data"
    },
    {
     "data": {
      "image/png": "[encoded data removed]",
      "text/plain": [
       "plot without title"
      ]
     },
     "metadata": {},
     "output_type": "display_data"
    }
   ],
   "source": [
    "head(Betas_select2)\n",
    "Subset <- Betas_select2[,-c(length(names(Betas_select2)))]\n",
    "corr <-cor(Subset)\n",
    "P_Cor <- cor_pmat(Subset)\n",
    "print(ggcorrplot(corr,title=paste0(\"Selected Features\"),tl.cex=10,tl.srt = 90,p.mat = P_Cor, sig.level = 0.01, insig = \"blank\"))\n",
    "\n",
    "\n"
   ]
  },
  {
   "cell_type": "code",
   "execution_count": 5,
   "metadata": {},
   "outputs": [
    {
     "name": "stdout",
     "output_type": "stream",
     "text": [
      "[1] \"loaded\"\n"
     ]
    }
   ],
   "source": [
    "\n",
    "NumVar <- length(Betas_select)\n",
    "names <-colnames(Betas_select)\n",
    "names1 <- as.character(names)\n",
    "\n",
    "names1 <- strsplit(names1,\", \")\n",
    "names <- as.data.frame(names1)\n",
    "\n",
    "N <- 1000\n",
    "\n",
    "multipleAUC<-matrix(rnorm(2),1,N) \n",
    "  multipleAUCR<-matrix(rnorm(2),1,N) \n",
    "  multipleAUCNB<-matrix(rnorm(2),1,N) \n",
    "  multipleAUCNBR<-matrix(rnorm(2),1,N) \n",
    "  \n",
    "  multipleROC<-matrix(as.list(rnorm(2)),1,N)  \n",
    "  multipleROCR<-matrix(as.list(rnorm(2)),1,N)  \n",
    "  multipleNBROC<-matrix(as.list(rnorm(2)),1,N) \n",
    "  multipleNBROCR<-matrix(as.list(rnorm(2)),1,N) \n",
    "  \n",
    "  singleROC<-list()\n",
    "  doubleROC<-list()\n",
    "  singleROCR<-list()\n",
    "  doubleROCR<-list()\n",
    "  \n",
    "  doublePlus<-list()\n",
    "  singlePlus<-list()\n",
    "  \n",
    "  singleAUC<-matrix(rnorm(2),NumVar-1,N)    \n",
    "  doubleAUC<-matrix(rnorm(2),(NumVar-1),N) \n",
    "  singleAUCR<-matrix(rnorm(2),NumVar-1,N)    \n",
    "  doubleAUCR<-matrix(rnorm(2),(NumVar-1),N)\n",
    "  \n",
    "  doubleAUCSVMR<-matrix(rnorm(2),(NumVar-1),N) \n",
    "  doubleAUCSVM<-matrix(rnorm(2),(NumVar-1),N) \n",
    "  doubleAUCSVMCrossR<-matrix(rnorm(2),(NumVar-1),N) \n",
    "  doubleAUCSVMCross<-matrix(rnorm(2),(NumVar-1),N) \n",
    "  doubleAUCRFCross<-matrix(rnorm(2),(NumVar-1),N) \n",
    "  doubleAUCRFCrossR<-matrix(rnorm(2),(NumVar-1),N) \n",
    "  doubleAUCNBR<-matrix(rnorm(2),(NumVar-1),N) \n",
    "  doubleAUCNB<-matrix(rnorm(2),(NumVar-1),N) \n",
    "  \n",
    "  MatsingleROC<-matrix(as.list(rnorm(2)),NumVar-1,N)  \n",
    "  MatsingleROCR<-matrix(as.list(rnorm(2)),NumVar-1,N)  \n",
    "  MatdoubleROC<-matrix(as.list(rnorm(2)),(NumVar-1),N) \n",
    "  MatdoubleROCR<-matrix(as.list(rnorm(2)),(NumVar-1),N) \n",
    "  \n",
    "  MatsinglePlus<-matrix(as.list(rnorm(2)),NumVar-1,N) \n",
    "  MatdoublePlus<-matrix(as.list(rnorm(2)),(NumVar-1),N)\n",
    "  MatsinglePlusR<-matrix(as.list(rnorm(2)),NumVar-1,N) \n",
    "  MatdoublePlusR<-matrix(as.list(rnorm(2)),(NumVar-1),N)\n",
    "  multiplePlus<-matrix(as.list(rnorm(2)),1,N)\n",
    "  multiplePlusR<-matrix(as.list(rnorm(2)),1,N)\n",
    "\n",
    "set.seed(132)\n",
    "\n",
    "source(\"/Users/laura/Documents/PhD/R/PipelineAll/FunctionsAUC.R\")\n",
    "\n",
    "print(\"loaded\")"
   ]
  },
  {
   "cell_type": "code",
   "execution_count": 9,
   "metadata": {
    "collapsed": true
   },
   "outputs": [
    {
     "name": "stdout",
     "output_type": "stream",
     "text": [
      "[1] 1\n",
      "[1] 2\n",
      "[1] 3\n",
      "[1] 4\n",
      "[1] 5\n",
      "[1] 6\n",
      "[1] 7\n",
      "[1] 8\n"
     ]
    },
    {
     "name": "stderr",
     "output_type": "stream",
     "text": [
      "Warning message:\n",
      "“glm.fit: fitted probabilities numerically 0 or 1 occurred”Warning message:\n",
      "“glm.fit: fitted probabilities numerically 0 or 1 occurred”Warning message:\n",
      "“glm.fit: fitted probabilities numerically 0 or 1 occurred”"
     ]
    },
    {
     "name": "stdout",
     "output_type": "stream",
     "text": [
      "[1] 9\n",
      "[1] 10\n",
      "[1] 11\n",
      "[1] 12\n",
      "[1] 13\n",
      "[1] 14\n",
      "[1] 15\n",
      "[1] 16\n",
      "[1] 17\n",
      "[1] 18\n",
      "[1] 19\n",
      "[1] 20\n",
      "[1] 21\n",
      "[1] 22\n",
      "[1] 23\n",
      "[1] 24\n",
      "[1] 25\n",
      "[1] 26\n",
      "[1] 27\n",
      "[1] 28\n",
      "[1] 29\n",
      "[1] 30\n"
     ]
    },
    {
     "name": "stderr",
     "output_type": "stream",
     "text": [
      "Warning message:\n",
      "“glm.fit: algorithm did not converge”Warning message:\n",
      "“glm.fit: fitted probabilities numerically 0 or 1 occurred”Warning message:\n",
      "“glm.fit: algorithm did not converge”Warning message:\n",
      "“glm.fit: fitted probabilities numerically 0 or 1 occurred”Warning message:\n",
      "“glm.fit: algorithm did not converge”Warning message:\n",
      "“glm.fit: fitted probabilities numerically 0 or 1 occurred”"
     ]
    },
    {
     "name": "stdout",
     "output_type": "stream",
     "text": [
      "[1] 31\n",
      "[1] 32\n",
      "[1] 33\n",
      "[1] 34\n",
      "[1] 35\n",
      "[1] 36\n",
      "[1] 37\n",
      "[1] 38\n",
      "[1] 39\n",
      "[1] 40\n",
      "[1] 41\n",
      "[1] 42\n",
      "[1] 43\n",
      "[1] 44\n",
      "[1] 45\n",
      "[1] 46\n",
      "[1] 47\n",
      "[1] 48\n",
      "[1] 49\n",
      "[1] 50\n",
      "[1] 51\n",
      "[1] 52\n",
      "[1] 53\n",
      "[1] 54\n",
      "[1] 55\n",
      "[1] 56\n",
      "[1] 57\n",
      "[1] 58\n",
      "[1] 59\n",
      "[1] 60\n"
     ]
    },
    {
     "name": "stderr",
     "output_type": "stream",
     "text": [
      "Warning message:\n",
      "“glm.fit: fitted probabilities numerically 0 or 1 occurred”Warning message:\n",
      "“glm.fit: fitted probabilities numerically 0 or 1 occurred”Warning message:\n",
      "“glm.fit: fitted probabilities numerically 0 or 1 occurred”"
     ]
    },
    {
     "name": "stdout",
     "output_type": "stream",
     "text": [
      "[1] 61\n",
      "[1] 62\n",
      "[1] 63\n",
      "[1] 64\n"
     ]
    },
    {
     "name": "stderr",
     "output_type": "stream",
     "text": [
      "Warning message:\n",
      "“glm.fit: fitted probabilities numerically 0 or 1 occurred”Warning message:\n",
      "“glm.fit: fitted probabilities numerically 0 or 1 occurred”Warning message:\n",
      "“glm.fit: fitted probabilities numerically 0 or 1 occurred”"
     ]
    },
    {
     "name": "stdout",
     "output_type": "stream",
     "text": [
      "[1] 65\n",
      "[1] 66\n",
      "[1] 67\n",
      "[1] 68\n",
      "[1] 69\n",
      "[1] 70\n",
      "[1] 71\n",
      "[1] 72\n",
      "[1] 73\n",
      "[1] 74\n",
      "[1] 75\n",
      "[1] 76\n",
      "[1] 77\n",
      "[1] 78\n",
      "[1] 79\n",
      "[1] 80\n",
      "[1] 81\n",
      "[1] 82\n",
      "[1] 83\n",
      "[1] 84\n",
      "[1] 85\n",
      "[1] 86\n",
      "[1] 87\n",
      "[1] 88\n",
      "[1] 89\n",
      "[1] 90\n",
      "[1] 91\n",
      "[1] 92\n",
      "[1] 93\n",
      "[1] 94\n"
     ]
    },
    {
     "name": "stderr",
     "output_type": "stream",
     "text": [
      "Warning message:\n",
      "“glm.fit: fitted probabilities numerically 0 or 1 occurred”Warning message:\n",
      "“glm.fit: fitted probabilities numerically 0 or 1 occurred”Warning message:\n",
      "“glm.fit: fitted probabilities numerically 0 or 1 occurred”"
     ]
    },
    {
     "name": "stdout",
     "output_type": "stream",
     "text": [
      "[1] 95\n"
     ]
    },
    {
     "name": "stderr",
     "output_type": "stream",
     "text": [
      "Warning message:\n",
      "“glm.fit: fitted probabilities numerically 0 or 1 occurred”Warning message:\n",
      "“glm.fit: fitted probabilities numerically 0 or 1 occurred”Warning message:\n",
      "“glm.fit: fitted probabilities numerically 0 or 1 occurred”"
     ]
    },
    {
     "name": "stdout",
     "output_type": "stream",
     "text": [
      "[1] 96\n",
      "[1] 97\n",
      "[1] 98\n",
      "[1] 99\n",
      "[1] 100\n",
      "[1] 101\n",
      "[1] 102\n",
      "[1] 103\n",
      "[1] 104\n",
      "[1] 105\n",
      "[1] 106\n"
     ]
    },
    {
     "name": "stderr",
     "output_type": "stream",
     "text": [
      "Warning message:\n",
      "“glm.fit: fitted probabilities numerically 0 or 1 occurred”Warning message:\n",
      "“glm.fit: fitted probabilities numerically 0 or 1 occurred”Warning message:\n",
      "“glm.fit: fitted probabilities numerically 0 or 1 occurred”"
     ]
    },
    {
     "name": "stdout",
     "output_type": "stream",
     "text": [
      "[1] 107\n",
      "[1] 108\n",
      "[1] 109\n",
      "[1] 110\n"
     ]
    },
    {
     "name": "stderr",
     "output_type": "stream",
     "text": [
      "Warning message:\n",
      "“glm.fit: fitted probabilities numerically 0 or 1 occurred”Warning message:\n",
      "“glm.fit: fitted probabilities numerically 0 or 1 occurred”Warning message:\n",
      "“glm.fit: fitted probabilities numerically 0 or 1 occurred”"
     ]
    },
    {
     "name": "stdout",
     "output_type": "stream",
     "text": [
      "[1] 111\n",
      "[1] 112\n",
      "[1] 113\n",
      "[1] 114\n",
      "[1] 115\n",
      "[1] 116\n",
      "[1] 117\n",
      "[1] 118\n",
      "[1] 119\n",
      "[1] 120\n",
      "[1] 121\n",
      "[1] 122\n",
      "[1] 123\n",
      "[1] 124\n",
      "[1] 125\n",
      "[1] 126\n",
      "[1] 127\n",
      "[1] 128\n",
      "[1] 129\n",
      "[1] 130\n",
      "[1] 131\n",
      "[1] 132\n",
      "[1] 133\n",
      "[1] 134\n",
      "[1] 135\n",
      "[1] 136\n",
      "[1] 137\n",
      "[1] 138\n",
      "[1] 139\n",
      "[1] 140\n"
     ]
    },
    {
     "name": "stderr",
     "output_type": "stream",
     "text": [
      "Warning message:\n",
      "“glm.fit: fitted probabilities numerically 0 or 1 occurred”Warning message:\n",
      "“glm.fit: fitted probabilities numerically 0 or 1 occurred”Warning message:\n",
      "“glm.fit: fitted probabilities numerically 0 or 1 occurred”"
     ]
    },
    {
     "name": "stdout",
     "output_type": "stream",
     "text": [
      "[1] 141\n",
      "[1] 142\n",
      "[1] 143\n",
      "[1] 144\n",
      "[1] 145\n",
      "[1] 146\n",
      "[1] 147\n",
      "[1] 148\n",
      "[1] 149\n",
      "[1] 150\n",
      "[1] 151\n",
      "[1] 152\n",
      "[1] 153\n"
     ]
    },
    {
     "name": "stderr",
     "output_type": "stream",
     "text": [
      "Warning message:\n",
      "“glm.fit: fitted probabilities numerically 0 or 1 occurred”Warning message:\n",
      "“glm.fit: fitted probabilities numerically 0 or 1 occurred”Warning message:\n",
      "“glm.fit: fitted probabilities numerically 0 or 1 occurred”"
     ]
    },
    {
     "name": "stdout",
     "output_type": "stream",
     "text": [
      "[1] 154\n"
     ]
    },
    {
     "name": "stderr",
     "output_type": "stream",
     "text": [
      "Warning message:\n",
      "“glm.fit: fitted probabilities numerically 0 or 1 occurred”Warning message:\n",
      "“glm.fit: fitted probabilities numerically 0 or 1 occurred”Warning message:\n",
      "“glm.fit: fitted probabilities numerically 0 or 1 occurred”"
     ]
    },
    {
     "name": "stdout",
     "output_type": "stream",
     "text": [
      "[1] 155\n",
      "[1] 156\n",
      "[1] 157\n",
      "[1] 158\n",
      "[1] 159\n",
      "[1] 160\n",
      "[1] 161\n",
      "[1] 162\n",
      "[1] 163\n",
      "[1] 164\n",
      "[1] 165\n",
      "[1] 166\n"
     ]
    },
    {
     "name": "stderr",
     "output_type": "stream",
     "text": [
      "Warning message:\n",
      "“glm.fit: algorithm did not converge”Warning message:\n",
      "“glm.fit: fitted probabilities numerically 0 or 1 occurred”Warning message:\n",
      "“glm.fit: algorithm did not converge”Warning message:\n",
      "“glm.fit: fitted probabilities numerically 0 or 1 occurred”Warning message:\n",
      "“glm.fit: algorithm did not converge”Warning message:\n",
      "“glm.fit: fitted probabilities numerically 0 or 1 occurred”"
     ]
    },
    {
     "name": "stdout",
     "output_type": "stream",
     "text": [
      "[1] 167\n",
      "[1] 168\n",
      "[1] 169\n",
      "[1] 170\n",
      "[1] 171\n",
      "[1] 172\n"
     ]
    },
    {
     "name": "stderr",
     "output_type": "stream",
     "text": [
      "Warning message:\n",
      "“glm.fit: fitted probabilities numerically 0 or 1 occurred”Warning message:\n",
      "“glm.fit: fitted probabilities numerically 0 or 1 occurred”Warning message:\n",
      "“glm.fit: fitted probabilities numerically 0 or 1 occurred”"
     ]
    },
    {
     "name": "stdout",
     "output_type": "stream",
     "text": [
      "[1] 173\n",
      "[1] 174\n"
     ]
    },
    {
     "name": "stderr",
     "output_type": "stream",
     "text": [
      "Warning message:\n",
      "“glm.fit: algorithm did not converge”Warning message:\n",
      "“glm.fit: fitted probabilities numerically 0 or 1 occurred”Warning message:\n",
      "“glm.fit: algorithm did not converge”Warning message:\n",
      "“glm.fit: fitted probabilities numerically 0 or 1 occurred”Warning message:\n",
      "“glm.fit: algorithm did not converge”Warning message:\n",
      "“glm.fit: fitted probabilities numerically 0 or 1 occurred”"
     ]
    },
    {
     "name": "stdout",
     "output_type": "stream",
     "text": [
      "[1] 175\n",
      "[1] 176\n",
      "[1] 177\n",
      "[1] 178\n",
      "[1] 179\n",
      "[1] 180\n",
      "[1] 181\n",
      "[1] 182\n",
      "[1] 183\n",
      "[1] 184\n",
      "[1] 185\n"
     ]
    },
    {
     "name": "stderr",
     "output_type": "stream",
     "text": [
      "Warning message:\n",
      "“glm.fit: fitted probabilities numerically 0 or 1 occurred”Warning message:\n",
      "“glm.fit: fitted probabilities numerically 0 or 1 occurred”Warning message:\n",
      "“glm.fit: fitted probabilities numerically 0 or 1 occurred”"
     ]
    },
    {
     "name": "stdout",
     "output_type": "stream",
     "text": [
      "[1] 186\n",
      "[1] 187\n",
      "[1] 188\n",
      "[1] 189\n",
      "[1] 190\n",
      "[1] 191\n",
      "[1] 192\n",
      "[1] 193\n",
      "[1] 194\n",
      "[1] 195\n",
      "[1] 196\n",
      "[1] 197\n",
      "[1] 198\n",
      "[1] 199\n",
      "[1] 200\n",
      "[1] 201\n",
      "[1] 202\n",
      "[1] 203\n",
      "[1] 204\n",
      "[1] 205\n"
     ]
    },
    {
     "name": "stderr",
     "output_type": "stream",
     "text": [
      "Warning message:\n",
      "“glm.fit: fitted probabilities numerically 0 or 1 occurred”Warning message:\n",
      "“glm.fit: fitted probabilities numerically 0 or 1 occurred”Warning message:\n",
      "“glm.fit: fitted probabilities numerically 0 or 1 occurred”"
     ]
    },
    {
     "name": "stdout",
     "output_type": "stream",
     "text": [
      "[1] 206\n",
      "[1] 207\n",
      "[1] 208\n",
      "[1] 209\n",
      "[1] 210\n",
      "[1] 211\n",
      "[1] 212\n"
     ]
    },
    {
     "name": "stderr",
     "output_type": "stream",
     "text": [
      "Warning message:\n",
      "“glm.fit: algorithm did not converge”Warning message:\n",
      "“glm.fit: fitted probabilities numerically 0 or 1 occurred”Warning message:\n",
      "“glm.fit: algorithm did not converge”Warning message:\n",
      "“glm.fit: fitted probabilities numerically 0 or 1 occurred”Warning message:\n",
      "“glm.fit: algorithm did not converge”Warning message:\n",
      "“glm.fit: fitted probabilities numerically 0 or 1 occurred”"
     ]
    },
    {
     "name": "stdout",
     "output_type": "stream",
     "text": [
      "[1] 213\n",
      "[1] 214\n",
      "[1] 215\n",
      "[1] 216\n",
      "[1] 217\n",
      "[1] 218\n",
      "[1] 219\n",
      "[1] 220\n",
      "[1] 221\n",
      "[1] 222\n",
      "[1] 223\n",
      "[1] 224\n",
      "[1] 225\n",
      "[1] 226\n",
      "[1] 227\n",
      "[1] 228\n",
      "[1] 229\n",
      "[1] 230\n",
      "[1] 231\n",
      "[1] 232\n",
      "[1] 233\n",
      "[1] 234\n",
      "[1] 235\n"
     ]
    },
    {
     "name": "stderr",
     "output_type": "stream",
     "text": [
      "Warning message:\n",
      "“glm.fit: algorithm did not converge”Warning message:\n",
      "“glm.fit: fitted probabilities numerically 0 or 1 occurred”Warning message:\n",
      "“glm.fit: algorithm did not converge”Warning message:\n",
      "“glm.fit: fitted probabilities numerically 0 or 1 occurred”Warning message:\n",
      "“glm.fit: algorithm did not converge”Warning message:\n",
      "“glm.fit: fitted probabilities numerically 0 or 1 occurred”"
     ]
    },
    {
     "name": "stdout",
     "output_type": "stream",
     "text": [
      "[1] 236\n",
      "[1] 237\n",
      "[1] 238\n",
      "[1] 239\n",
      "[1] 240\n"
     ]
    },
    {
     "name": "stderr",
     "output_type": "stream",
     "text": [
      "Warning message:\n",
      "“glm.fit: fitted probabilities numerically 0 or 1 occurred”Warning message:\n",
      "“glm.fit: fitted probabilities numerically 0 or 1 occurred”Warning message:\n",
      "“glm.fit: fitted probabilities numerically 0 or 1 occurred”"
     ]
    },
    {
     "name": "stdout",
     "output_type": "stream",
     "text": [
      "[1] 241\n",
      "[1] 242\n",
      "[1] 243\n",
      "[1] 244\n",
      "[1] 245\n",
      "[1] 246\n",
      "[1] 247\n",
      "[1] 248\n",
      "[1] 249\n",
      "[1] 250\n",
      "[1] 251\n",
      "[1] 252\n",
      "[1] 253\n",
      "[1] 254\n",
      "[1] 255\n",
      "[1] 256\n",
      "[1] 257\n",
      "[1] 258\n",
      "[1] 259\n",
      "[1] 260\n",
      "[1] 261\n",
      "[1] 262\n",
      "[1] 263\n",
      "[1] 264\n",
      "[1] 265\n",
      "[1] 266\n",
      "[1] 267\n",
      "[1] 268\n",
      "[1] 269\n",
      "[1] 270\n",
      "[1] 271\n",
      "[1] 272\n",
      "[1] 273\n",
      "[1] 274\n"
     ]
    },
    {
     "name": "stderr",
     "output_type": "stream",
     "text": [
      "Warning message:\n",
      "“glm.fit: algorithm did not converge”Warning message:\n",
      "“glm.fit: fitted probabilities numerically 0 or 1 occurred”Warning message:\n",
      "“glm.fit: algorithm did not converge”Warning message:\n",
      "“glm.fit: fitted probabilities numerically 0 or 1 occurred”Warning message:\n",
      "“glm.fit: algorithm did not converge”Warning message:\n",
      "“glm.fit: fitted probabilities numerically 0 or 1 occurred”"
     ]
    },
    {
     "name": "stdout",
     "output_type": "stream",
     "text": [
      "[1] 275\n",
      "[1] 276\n",
      "[1] 277\n"
     ]
    },
    {
     "name": "stderr",
     "output_type": "stream",
     "text": [
      "Warning message:\n",
      "“glm.fit: fitted probabilities numerically 0 or 1 occurred”Warning message:\n",
      "“glm.fit: fitted probabilities numerically 0 or 1 occurred”Warning message:\n",
      "“glm.fit: fitted probabilities numerically 0 or 1 occurred”"
     ]
    },
    {
     "name": "stdout",
     "output_type": "stream",
     "text": [
      "[1] 278\n",
      "[1] 279\n",
      "[1] 280\n"
     ]
    },
    {
     "name": "stderr",
     "output_type": "stream",
     "text": [
      "Warning message:\n",
      "“glm.fit: fitted probabilities numerically 0 or 1 occurred”Warning message:\n",
      "“glm.fit: fitted probabilities numerically 0 or 1 occurred”Warning message:\n",
      "“glm.fit: fitted probabilities numerically 0 or 1 occurred”"
     ]
    },
    {
     "name": "stdout",
     "output_type": "stream",
     "text": [
      "[1] 281\n",
      "[1] 282\n"
     ]
    },
    {
     "name": "stderr",
     "output_type": "stream",
     "text": [
      "Warning message:\n",
      "“glm.fit: fitted probabilities numerically 0 or 1 occurred”Warning message:\n",
      "“glm.fit: fitted probabilities numerically 0 or 1 occurred”Warning message:\n",
      "“glm.fit: fitted probabilities numerically 0 or 1 occurred”"
     ]
    },
    {
     "name": "stdout",
     "output_type": "stream",
     "text": [
      "[1] 283\n",
      "[1] 284\n",
      "[1] 285\n",
      "[1] 286\n",
      "[1] 287\n",
      "[1] 288\n",
      "[1] 289\n"
     ]
    },
    {
     "name": "stderr",
     "output_type": "stream",
     "text": [
      "Warning message:\n",
      "“glm.fit: algorithm did not converge”Warning message:\n",
      "“glm.fit: fitted probabilities numerically 0 or 1 occurred”Warning message:\n",
      "“glm.fit: algorithm did not converge”Warning message:\n",
      "“glm.fit: fitted probabilities numerically 0 or 1 occurred”Warning message:\n",
      "“glm.fit: algorithm did not converge”Warning message:\n",
      "“glm.fit: fitted probabilities numerically 0 or 1 occurred”"
     ]
    },
    {
     "name": "stdout",
     "output_type": "stream",
     "text": [
      "[1] 290\n",
      "[1] 291\n",
      "[1] 292\n",
      "[1] 293\n"
     ]
    },
    {
     "name": "stderr",
     "output_type": "stream",
     "text": [
      "Warning message:\n",
      "“glm.fit: fitted probabilities numerically 0 or 1 occurred”Warning message:\n",
      "“glm.fit: fitted probabilities numerically 0 or 1 occurred”Warning message:\n",
      "“glm.fit: fitted probabilities numerically 0 or 1 occurred”"
     ]
    },
    {
     "name": "stdout",
     "output_type": "stream",
     "text": [
      "[1] 294\n"
     ]
    },
    {
     "name": "stderr",
     "output_type": "stream",
     "text": [
      "Warning message:\n",
      "“glm.fit: fitted probabilities numerically 0 or 1 occurred”Warning message:\n",
      "“glm.fit: fitted probabilities numerically 0 or 1 occurred”Warning message:\n",
      "“glm.fit: fitted probabilities numerically 0 or 1 occurred”"
     ]
    },
    {
     "name": "stdout",
     "output_type": "stream",
     "text": [
      "[1] 295\n",
      "[1] 296\n",
      "[1] 297\n",
      "[1] 298\n",
      "[1] 299\n",
      "[1] 300\n",
      "[1] 301\n",
      "[1] 302\n",
      "[1] 303\n",
      "[1] 304\n",
      "[1] 305\n",
      "[1] 306\n",
      "[1] 307\n",
      "[1] 308\n",
      "[1] 309\n",
      "[1] 310\n",
      "[1] 311\n",
      "[1] 312\n",
      "[1] 313\n",
      "[1] 314\n",
      "[1] 315\n",
      "[1] 316\n",
      "[1] 317\n",
      "[1] 318\n",
      "[1] 319\n",
      "[1] 320\n",
      "[1] 321\n",
      "[1] 322\n",
      "[1] 323\n",
      "[1] 324\n",
      "[1] 325\n",
      "[1] 326\n",
      "[1] 327\n",
      "[1] 328\n",
      "[1] 329\n",
      "[1] 330\n",
      "[1] 331\n",
      "[1] 332\n",
      "[1] 333\n",
      "[1] 334\n",
      "[1] 335\n",
      "[1] 336\n",
      "[1] 337\n",
      "[1] 338\n",
      "[1] 339\n",
      "[1] 340\n"
     ]
    },
    {
     "name": "stderr",
     "output_type": "stream",
     "text": [
      "Warning message:\n",
      "“glm.fit: algorithm did not converge”Warning message:\n",
      "“glm.fit: fitted probabilities numerically 0 or 1 occurred”Warning message:\n",
      "“glm.fit: algorithm did not converge”Warning message:\n",
      "“glm.fit: fitted probabilities numerically 0 or 1 occurred”Warning message:\n",
      "“glm.fit: algorithm did not converge”Warning message:\n",
      "“glm.fit: fitted probabilities numerically 0 or 1 occurred”"
     ]
    },
    {
     "name": "stdout",
     "output_type": "stream",
     "text": [
      "[1] 341\n",
      "[1] 342\n",
      "[1] 343\n",
      "[1] 344\n",
      "[1] 345\n",
      "[1] 346\n",
      "[1] 347\n",
      "[1] 348\n",
      "[1] 349\n",
      "[1] 350\n",
      "[1] 351\n",
      "[1] 352\n",
      "[1] 353\n",
      "[1] 354\n",
      "[1] 355\n",
      "[1] 356\n",
      "[1] 357\n",
      "[1] 358\n",
      "[1] 359\n",
      "[1] 360\n",
      "[1] 361\n"
     ]
    },
    {
     "name": "stderr",
     "output_type": "stream",
     "text": [
      "Warning message:\n",
      "“glm.fit: algorithm did not converge”Warning message:\n",
      "“glm.fit: fitted probabilities numerically 0 or 1 occurred”Warning message:\n",
      "“glm.fit: algorithm did not converge”Warning message:\n",
      "“glm.fit: fitted probabilities numerically 0 or 1 occurred”Warning message:\n",
      "“glm.fit: algorithm did not converge”Warning message:\n",
      "“glm.fit: fitted probabilities numerically 0 or 1 occurred”"
     ]
    },
    {
     "name": "stdout",
     "output_type": "stream",
     "text": [
      "[1] 362\n",
      "[1] 363\n",
      "[1] 364\n",
      "[1] 365\n",
      "[1] 366\n",
      "[1] 367\n",
      "[1] 368\n",
      "[1] 369\n",
      "[1] 370\n",
      "[1] 371\n",
      "[1] 372\n",
      "[1] 373\n",
      "[1] 374\n",
      "[1] 375\n",
      "[1] 376\n",
      "[1] 377\n",
      "[1] 378\n",
      "[1] 379\n",
      "[1] 380\n",
      "[1] 381\n",
      "[1] 382\n",
      "[1] 383\n",
      "[1] 384\n",
      "[1] 385\n",
      "[1] 386\n",
      "[1] 387\n",
      "[1] 388\n",
      "[1] 389\n",
      "[1] 390\n",
      "[1] 391\n",
      "[1] 392\n",
      "[1] 393\n",
      "[1] 394\n",
      "[1] 395\n",
      "[1] 396\n",
      "[1] 397\n",
      "[1] 398\n",
      "[1] 399\n",
      "[1] 400\n",
      "[1] 401\n"
     ]
    },
    {
     "name": "stderr",
     "output_type": "stream",
     "text": [
      "Warning message:\n",
      "“glm.fit: algorithm did not converge”Warning message:\n",
      "“glm.fit: fitted probabilities numerically 0 or 1 occurred”Warning message:\n",
      "“glm.fit: algorithm did not converge”Warning message:\n",
      "“glm.fit: fitted probabilities numerically 0 or 1 occurred”Warning message:\n",
      "“glm.fit: algorithm did not converge”Warning message:\n",
      "“glm.fit: fitted probabilities numerically 0 or 1 occurred”"
     ]
    },
    {
     "name": "stdout",
     "output_type": "stream",
     "text": [
      "[1] 402\n",
      "[1] 403\n",
      "[1] 404\n",
      "[1] 405\n"
     ]
    },
    {
     "name": "stderr",
     "output_type": "stream",
     "text": [
      "Warning message:\n",
      "“glm.fit: algorithm did not converge”Warning message:\n",
      "“glm.fit: fitted probabilities numerically 0 or 1 occurred”Warning message:\n",
      "“glm.fit: algorithm did not converge”Warning message:\n",
      "“glm.fit: fitted probabilities numerically 0 or 1 occurred”Warning message:\n",
      "“glm.fit: algorithm did not converge”Warning message:\n",
      "“glm.fit: fitted probabilities numerically 0 or 1 occurred”"
     ]
    },
    {
     "name": "stdout",
     "output_type": "stream",
     "text": [
      "[1] 406\n",
      "[1] 407\n",
      "[1] 408\n",
      "[1] 409\n",
      "[1] 410\n"
     ]
    },
    {
     "name": "stderr",
     "output_type": "stream",
     "text": [
      "Warning message:\n",
      "“glm.fit: algorithm did not converge”Warning message:\n",
      "“glm.fit: fitted probabilities numerically 0 or 1 occurred”Warning message:\n",
      "“glm.fit: algorithm did not converge”Warning message:\n",
      "“glm.fit: fitted probabilities numerically 0 or 1 occurred”Warning message:\n",
      "“glm.fit: algorithm did not converge”Warning message:\n",
      "“glm.fit: fitted probabilities numerically 0 or 1 occurred”"
     ]
    },
    {
     "name": "stdout",
     "output_type": "stream",
     "text": [
      "[1] 411\n",
      "[1] 412\n",
      "[1] 413\n",
      "[1] 414\n",
      "[1] 415\n",
      "[1] 416\n",
      "[1] 417\n",
      "[1] 418\n",
      "[1] 419\n",
      "[1] 420\n",
      "[1] 421\n",
      "[1] 422\n",
      "[1] 423\n",
      "[1] 424\n",
      "[1] 425\n",
      "[1] 426\n",
      "[1] 427\n",
      "[1] 428\n",
      "[1] 429\n",
      "[1] 430\n",
      "[1] 431\n",
      "[1] 432\n",
      "[1] 433\n",
      "[1] 434\n",
      "[1] 435\n",
      "[1] 436\n",
      "[1] 437\n",
      "[1] 438\n",
      "[1] 439\n",
      "[1] 440\n",
      "[1] 441\n",
      "[1] 442\n",
      "[1] 443\n",
      "[1] 444\n",
      "[1] 445\n",
      "[1] 446\n",
      "[1] 447\n"
     ]
    },
    {
     "name": "stderr",
     "output_type": "stream",
     "text": [
      "Warning message:\n",
      "“glm.fit: fitted probabilities numerically 0 or 1 occurred”Warning message:\n",
      "“glm.fit: fitted probabilities numerically 0 or 1 occurred”Warning message:\n",
      "“glm.fit: fitted probabilities numerically 0 or 1 occurred”"
     ]
    },
    {
     "name": "stdout",
     "output_type": "stream",
     "text": [
      "[1] 448\n",
      "[1] 449\n",
      "[1] 450\n",
      "[1] 451\n",
      "[1] 452\n",
      "[1] 453\n",
      "[1] 454\n",
      "[1] 455\n",
      "[1] 456\n",
      "[1] 457\n"
     ]
    },
    {
     "name": "stderr",
     "output_type": "stream",
     "text": [
      "Warning message:\n",
      "“glm.fit: fitted probabilities numerically 0 or 1 occurred”Warning message:\n",
      "“glm.fit: fitted probabilities numerically 0 or 1 occurred”Warning message:\n",
      "“glm.fit: fitted probabilities numerically 0 or 1 occurred”"
     ]
    },
    {
     "name": "stdout",
     "output_type": "stream",
     "text": [
      "[1] 458\n",
      "[1] 459\n",
      "[1] 460\n"
     ]
    },
    {
     "name": "stderr",
     "output_type": "stream",
     "text": [
      "Warning message:\n",
      "“glm.fit: fitted probabilities numerically 0 or 1 occurred”Warning message:\n",
      "“glm.fit: fitted probabilities numerically 0 or 1 occurred”Warning message:\n",
      "“glm.fit: fitted probabilities numerically 0 or 1 occurred”"
     ]
    },
    {
     "name": "stdout",
     "output_type": "stream",
     "text": [
      "[1] 461\n",
      "[1] 462\n",
      "[1] 463\n",
      "[1] 464\n",
      "[1] 465\n",
      "[1] 466\n",
      "[1] 467\n",
      "[1] 468\n",
      "[1] 469\n",
      "[1] 470\n",
      "[1] 471\n",
      "[1] 472\n",
      "[1] 473\n",
      "[1] 474\n",
      "[1] 475\n",
      "[1] 476\n",
      "[1] 477\n",
      "[1] 478\n",
      "[1] 479\n",
      "[1] 480\n",
      "[1] 481\n",
      "[1] 482\n",
      "[1] 483\n",
      "[1] 484\n",
      "[1] 485\n",
      "[1] 486\n",
      "[1] 487\n",
      "[1] 488\n",
      "[1] 489\n",
      "[1] 490\n",
      "[1] 491\n",
      "[1] 492\n",
      "[1] 493\n",
      "[1] 494\n",
      "[1] 495\n",
      "[1] 496\n",
      "[1] 497\n",
      "[1] 498\n",
      "[1] 499\n",
      "[1] 500\n",
      "[1] 501\n",
      "[1] 502\n",
      "[1] 503\n",
      "[1] 504\n",
      "[1] 505\n",
      "[1] 506\n",
      "[1] 507\n",
      "[1] 508\n",
      "[1] 509\n",
      "[1] 510\n",
      "[1] 511\n",
      "[1] 512\n",
      "[1] 513\n",
      "[1] 514\n",
      "[1] 515\n",
      "[1] 516\n",
      "[1] 517\n",
      "[1] 518\n",
      "[1] 519\n",
      "[1] 520\n"
     ]
    },
    {
     "name": "stderr",
     "output_type": "stream",
     "text": [
      "Warning message:\n",
      "“glm.fit: fitted probabilities numerically 0 or 1 occurred”Warning message:\n",
      "“glm.fit: fitted probabilities numerically 0 or 1 occurred”Warning message:\n",
      "“glm.fit: fitted probabilities numerically 0 or 1 occurred”"
     ]
    },
    {
     "name": "stdout",
     "output_type": "stream",
     "text": [
      "[1] 521\n",
      "[1] 522\n",
      "[1] 523\n"
     ]
    },
    {
     "name": "stderr",
     "output_type": "stream",
     "text": [
      "Warning message:\n",
      "“glm.fit: fitted probabilities numerically 0 or 1 occurred”Warning message:\n",
      "“glm.fit: fitted probabilities numerically 0 or 1 occurred”Warning message:\n",
      "“glm.fit: fitted probabilities numerically 0 or 1 occurred”"
     ]
    },
    {
     "name": "stdout",
     "output_type": "stream",
     "text": [
      "[1] 524\n",
      "[1] 525\n",
      "[1] 526\n",
      "[1] 527\n",
      "[1] 528\n",
      "[1] 529\n",
      "[1] 530\n",
      "[1] 531\n"
     ]
    },
    {
     "name": "stderr",
     "output_type": "stream",
     "text": [
      "Warning message:\n",
      "“glm.fit: fitted probabilities numerically 0 or 1 occurred”Warning message:\n",
      "“glm.fit: fitted probabilities numerically 0 or 1 occurred”Warning message:\n",
      "“glm.fit: fitted probabilities numerically 0 or 1 occurred”"
     ]
    },
    {
     "name": "stdout",
     "output_type": "stream",
     "text": [
      "[1] 532\n",
      "[1] 533\n",
      "[1] 534\n",
      "[1] 535\n",
      "[1] 536\n",
      "[1] 537\n",
      "[1] 538\n",
      "[1] 539\n",
      "[1] 540\n",
      "[1] 541\n",
      "[1] 542\n",
      "[1] 543\n",
      "[1] 544\n",
      "[1] 545\n",
      "[1] 546\n",
      "[1] 547\n",
      "[1] 548\n",
      "[1] 549\n",
      "[1] 550\n",
      "[1] 551\n",
      "[1] 552\n",
      "[1] 553\n",
      "[1] 554\n",
      "[1] 555\n",
      "[1] 556\n",
      "[1] 557\n",
      "[1] 558\n",
      "[1] 559\n",
      "[1] 560\n",
      "[1] 561\n",
      "[1] 562\n",
      "[1] 563\n",
      "[1] 564\n",
      "[1] 565\n",
      "[1] 566\n",
      "[1] 567\n",
      "[1] 568\n"
     ]
    },
    {
     "name": "stderr",
     "output_type": "stream",
     "text": [
      "Warning message:\n",
      "“glm.fit: algorithm did not converge”Warning message:\n",
      "“glm.fit: fitted probabilities numerically 0 or 1 occurred”Warning message:\n",
      "“glm.fit: algorithm did not converge”Warning message:\n",
      "“glm.fit: fitted probabilities numerically 0 or 1 occurred”Warning message:\n",
      "“glm.fit: algorithm did not converge”Warning message:\n",
      "“glm.fit: fitted probabilities numerically 0 or 1 occurred”"
     ]
    },
    {
     "name": "stdout",
     "output_type": "stream",
     "text": [
      "[1] 569\n",
      "[1] 570\n"
     ]
    },
    {
     "name": "stderr",
     "output_type": "stream",
     "text": [
      "Warning message:\n",
      "“glm.fit: fitted probabilities numerically 0 or 1 occurred”Warning message:\n",
      "“glm.fit: fitted probabilities numerically 0 or 1 occurred”Warning message:\n",
      "“glm.fit: fitted probabilities numerically 0 or 1 occurred”"
     ]
    },
    {
     "name": "stdout",
     "output_type": "stream",
     "text": [
      "[1] 571\n",
      "[1] 572\n",
      "[1] 573\n",
      "[1] 574\n"
     ]
    },
    {
     "name": "stderr",
     "output_type": "stream",
     "text": [
      "Warning message:\n",
      "“glm.fit: fitted probabilities numerically 0 or 1 occurred”Warning message:\n",
      "“glm.fit: fitted probabilities numerically 0 or 1 occurred”Warning message:\n",
      "“glm.fit: fitted probabilities numerically 0 or 1 occurred”"
     ]
    },
    {
     "name": "stdout",
     "output_type": "stream",
     "text": [
      "[1] 575\n",
      "[1] 576\n",
      "[1] 577\n",
      "[1] 578\n",
      "[1] 579\n",
      "[1] 580\n",
      "[1] 581\n",
      "[1] 582\n",
      "[1] 583\n",
      "[1] 584\n",
      "[1] 585\n",
      "[1] 586\n"
     ]
    },
    {
     "name": "stderr",
     "output_type": "stream",
     "text": [
      "Warning message:\n",
      "“glm.fit: fitted probabilities numerically 0 or 1 occurred”Warning message:\n",
      "“glm.fit: fitted probabilities numerically 0 or 1 occurred”Warning message:\n",
      "“glm.fit: fitted probabilities numerically 0 or 1 occurred”"
     ]
    },
    {
     "name": "stdout",
     "output_type": "stream",
     "text": [
      "[1] 587\n",
      "[1] 588\n",
      "[1] 589\n",
      "[1] 590\n",
      "[1] 591\n"
     ]
    },
    {
     "name": "stderr",
     "output_type": "stream",
     "text": [
      "Warning message:\n",
      "“glm.fit: fitted probabilities numerically 0 or 1 occurred”Warning message:\n",
      "“glm.fit: fitted probabilities numerically 0 or 1 occurred”Warning message:\n",
      "“glm.fit: fitted probabilities numerically 0 or 1 occurred”"
     ]
    },
    {
     "name": "stdout",
     "output_type": "stream",
     "text": [
      "[1] 592\n",
      "[1] 593\n",
      "[1] 594\n",
      "[1] 595\n",
      "[1] 596\n",
      "[1] 597\n",
      "[1] 598\n",
      "[1] 599\n",
      "[1] 600\n",
      "[1] 601\n",
      "[1] 602\n",
      "[1] 603\n",
      "[1] 604\n",
      "[1] 605\n",
      "[1] 606\n",
      "[1] 607\n",
      "[1] 608\n",
      "[1] 609\n",
      "[1] 610\n",
      "[1] 611\n",
      "[1] 612\n",
      "[1] 613\n",
      "[1] 614\n",
      "[1] 615\n",
      "[1] 616\n"
     ]
    },
    {
     "name": "stderr",
     "output_type": "stream",
     "text": [
      "Warning message:\n",
      "“glm.fit: algorithm did not converge”Warning message:\n",
      "“glm.fit: fitted probabilities numerically 0 or 1 occurred”Warning message:\n",
      "“glm.fit: algorithm did not converge”Warning message:\n",
      "“glm.fit: fitted probabilities numerically 0 or 1 occurred”Warning message:\n",
      "“glm.fit: algorithm did not converge”Warning message:\n",
      "“glm.fit: fitted probabilities numerically 0 or 1 occurred”"
     ]
    },
    {
     "name": "stdout",
     "output_type": "stream",
     "text": [
      "[1] 617\n",
      "[1] 618\n"
     ]
    },
    {
     "name": "stderr",
     "output_type": "stream",
     "text": [
      "Warning message:\n",
      "“glm.fit: fitted probabilities numerically 0 or 1 occurred”Warning message:\n",
      "“glm.fit: fitted probabilities numerically 0 or 1 occurred”Warning message:\n",
      "“glm.fit: fitted probabilities numerically 0 or 1 occurred”"
     ]
    },
    {
     "name": "stdout",
     "output_type": "stream",
     "text": [
      "[1] 619\n"
     ]
    },
    {
     "name": "stderr",
     "output_type": "stream",
     "text": [
      "Warning message:\n",
      "“glm.fit: fitted probabilities numerically 0 or 1 occurred”Warning message:\n",
      "“glm.fit: fitted probabilities numerically 0 or 1 occurred”Warning message:\n",
      "“glm.fit: fitted probabilities numerically 0 or 1 occurred”"
     ]
    },
    {
     "name": "stdout",
     "output_type": "stream",
     "text": [
      "[1] 620\n",
      "[1] 621\n",
      "[1] 622\n",
      "[1] 623\n"
     ]
    },
    {
     "name": "stderr",
     "output_type": "stream",
     "text": [
      "Warning message:\n",
      "“glm.fit: fitted probabilities numerically 0 or 1 occurred”Warning message:\n",
      "“glm.fit: fitted probabilities numerically 0 or 1 occurred”Warning message:\n",
      "“glm.fit: fitted probabilities numerically 0 or 1 occurred”"
     ]
    },
    {
     "name": "stdout",
     "output_type": "stream",
     "text": [
      "[1] 624\n",
      "[1] 625\n",
      "[1] 626\n",
      "[1] 627\n",
      "[1] 628\n",
      "[1] 629\n",
      "[1] 630\n",
      "[1] 631\n",
      "[1] 632\n",
      "[1] 633\n"
     ]
    },
    {
     "name": "stderr",
     "output_type": "stream",
     "text": [
      "Warning message:\n",
      "“glm.fit: algorithm did not converge”Warning message:\n",
      "“glm.fit: fitted probabilities numerically 0 or 1 occurred”Warning message:\n",
      "“glm.fit: algorithm did not converge”Warning message:\n",
      "“glm.fit: fitted probabilities numerically 0 or 1 occurred”Warning message:\n",
      "“glm.fit: algorithm did not converge”Warning message:\n",
      "“glm.fit: fitted probabilities numerically 0 or 1 occurred”"
     ]
    },
    {
     "name": "stdout",
     "output_type": "stream",
     "text": [
      "[1] 634\n",
      "[1] 635\n",
      "[1] 636\n",
      "[1] 637\n",
      "[1] 638\n",
      "[1] 639\n"
     ]
    },
    {
     "name": "stderr",
     "output_type": "stream",
     "text": [
      "Warning message:\n",
      "“glm.fit: fitted probabilities numerically 0 or 1 occurred”Warning message:\n",
      "“glm.fit: fitted probabilities numerically 0 or 1 occurred”Warning message:\n",
      "“glm.fit: fitted probabilities numerically 0 or 1 occurred”"
     ]
    },
    {
     "name": "stdout",
     "output_type": "stream",
     "text": [
      "[1] 640\n",
      "[1] 641\n",
      "[1] 642\n",
      "[1] 643\n",
      "[1] 644\n",
      "[1] 645\n",
      "[1] 646\n",
      "[1] 647\n",
      "[1] 648\n",
      "[1] 649\n",
      "[1] 650\n",
      "[1] 651\n",
      "[1] 652\n",
      "[1] 653\n",
      "[1] 654\n",
      "[1] 655\n",
      "[1] 656\n",
      "[1] 657\n",
      "[1] 658\n",
      "[1] 659\n",
      "[1] 660\n",
      "[1] 661\n"
     ]
    },
    {
     "name": "stderr",
     "output_type": "stream",
     "text": [
      "Warning message:\n",
      "“glm.fit: fitted probabilities numerically 0 or 1 occurred”Warning message:\n",
      "“glm.fit: fitted probabilities numerically 0 or 1 occurred”Warning message:\n",
      "“glm.fit: fitted probabilities numerically 0 or 1 occurred”"
     ]
    },
    {
     "name": "stdout",
     "output_type": "stream",
     "text": [
      "[1] 662\n",
      "[1] 663\n",
      "[1] 664\n",
      "[1] 665\n",
      "[1] 666\n",
      "[1] 667\n",
      "[1] 668\n",
      "[1] 669\n"
     ]
    },
    {
     "name": "stderr",
     "output_type": "stream",
     "text": [
      "Warning message:\n",
      "“glm.fit: fitted probabilities numerically 0 or 1 occurred”Warning message:\n",
      "“glm.fit: fitted probabilities numerically 0 or 1 occurred”Warning message:\n",
      "“glm.fit: fitted probabilities numerically 0 or 1 occurred”"
     ]
    },
    {
     "name": "stdout",
     "output_type": "stream",
     "text": [
      "[1] 670\n",
      "[1] 671\n",
      "[1] 672\n",
      "[1] 673\n",
      "[1] 674\n",
      "[1] 675\n",
      "[1] 676\n",
      "[1] 677\n",
      "[1] 678\n",
      "[1] 679\n",
      "[1] 680\n",
      "[1] 681\n",
      "[1] 682\n",
      "[1] 683\n",
      "[1] 684\n",
      "[1] 685\n",
      "[1] 686\n",
      "[1] 687\n",
      "[1] 688\n"
     ]
    },
    {
     "name": "stderr",
     "output_type": "stream",
     "text": [
      "Warning message:\n",
      "“glm.fit: fitted probabilities numerically 0 or 1 occurred”Warning message:\n",
      "“glm.fit: fitted probabilities numerically 0 or 1 occurred”Warning message:\n",
      "“glm.fit: fitted probabilities numerically 0 or 1 occurred”"
     ]
    },
    {
     "name": "stdout",
     "output_type": "stream",
     "text": [
      "[1] 689\n",
      "[1] 690\n",
      "[1] 691\n",
      "[1] 692\n"
     ]
    },
    {
     "name": "stderr",
     "output_type": "stream",
     "text": [
      "Warning message:\n",
      "“glm.fit: algorithm did not converge”Warning message:\n",
      "“glm.fit: fitted probabilities numerically 0 or 1 occurred”Warning message:\n",
      "“glm.fit: algorithm did not converge”Warning message:\n",
      "“glm.fit: fitted probabilities numerically 0 or 1 occurred”Warning message:\n",
      "“glm.fit: algorithm did not converge”Warning message:\n",
      "“glm.fit: fitted probabilities numerically 0 or 1 occurred”"
     ]
    },
    {
     "name": "stdout",
     "output_type": "stream",
     "text": [
      "[1] 693\n"
     ]
    },
    {
     "name": "stderr",
     "output_type": "stream",
     "text": [
      "Warning message:\n",
      "“glm.fit: fitted probabilities numerically 0 or 1 occurred”Warning message:\n",
      "“glm.fit: fitted probabilities numerically 0 or 1 occurred”Warning message:\n",
      "“glm.fit: fitted probabilities numerically 0 or 1 occurred”"
     ]
    },
    {
     "name": "stdout",
     "output_type": "stream",
     "text": [
      "[1] 694\n",
      "[1] 695\n",
      "[1] 696\n",
      "[1] 697\n",
      "[1] 698\n",
      "[1] 699\n",
      "[1] 700\n",
      "[1] 701\n",
      "[1] 702\n"
     ]
    },
    {
     "name": "stderr",
     "output_type": "stream",
     "text": [
      "Warning message:\n",
      "“glm.fit: fitted probabilities numerically 0 or 1 occurred”Warning message:\n",
      "“glm.fit: fitted probabilities numerically 0 or 1 occurred”Warning message:\n",
      "“glm.fit: fitted probabilities numerically 0 or 1 occurred”"
     ]
    },
    {
     "name": "stdout",
     "output_type": "stream",
     "text": [
      "[1] 703\n",
      "[1] 704\n",
      "[1] 705\n"
     ]
    },
    {
     "name": "stderr",
     "output_type": "stream",
     "text": [
      "Warning message:\n",
      "“glm.fit: algorithm did not converge”Warning message:\n",
      "“glm.fit: fitted probabilities numerically 0 or 1 occurred”Warning message:\n",
      "“glm.fit: algorithm did not converge”Warning message:\n",
      "“glm.fit: fitted probabilities numerically 0 or 1 occurred”Warning message:\n",
      "“glm.fit: algorithm did not converge”Warning message:\n",
      "“glm.fit: fitted probabilities numerically 0 or 1 occurred”"
     ]
    },
    {
     "name": "stdout",
     "output_type": "stream",
     "text": [
      "[1] 706\n",
      "[1] 707\n",
      "[1] 708\n"
     ]
    },
    {
     "name": "stderr",
     "output_type": "stream",
     "text": [
      "Warning message:\n",
      "“glm.fit: fitted probabilities numerically 0 or 1 occurred”Warning message:\n",
      "“glm.fit: fitted probabilities numerically 0 or 1 occurred”Warning message:\n",
      "“glm.fit: fitted probabilities numerically 0 or 1 occurred”"
     ]
    },
    {
     "name": "stdout",
     "output_type": "stream",
     "text": [
      "[1] 709\n",
      "[1] 710\n",
      "[1] 711\n",
      "[1] 712\n",
      "[1] 713\n",
      "[1] 714\n",
      "[1] 715\n",
      "[1] 716\n",
      "[1] 717\n",
      "[1] 718\n",
      "[1] 719\n",
      "[1] 720\n",
      "[1] 721\n",
      "[1] 722\n",
      "[1] 723\n",
      "[1] 724\n",
      "[1] 725\n",
      "[1] 726\n",
      "[1] 727\n",
      "[1] 728\n",
      "[1] 729\n",
      "[1] 730\n",
      "[1] 731\n",
      "[1] 732\n",
      "[1] 733\n",
      "[1] 734\n",
      "[1] 735\n",
      "[1] 736\n",
      "[1] 737\n",
      "[1] 738\n",
      "[1] 739\n",
      "[1] 740\n",
      "[1] 741\n",
      "[1] 742\n",
      "[1] 743\n",
      "[1] 744\n",
      "[1] 745\n",
      "[1] 746\n",
      "[1] 747\n",
      "[1] 748\n",
      "[1] 749\n",
      "[1] 750\n",
      "[1] 751\n",
      "[1] 752\n",
      "[1] 753\n",
      "[1] 754\n",
      "[1] 755\n",
      "[1] 756\n"
     ]
    },
    {
     "name": "stderr",
     "output_type": "stream",
     "text": [
      "Warning message:\n",
      "“glm.fit: algorithm did not converge”Warning message:\n",
      "“glm.fit: fitted probabilities numerically 0 or 1 occurred”Warning message:\n",
      "“glm.fit: algorithm did not converge”Warning message:\n",
      "“glm.fit: fitted probabilities numerically 0 or 1 occurred”Warning message:\n",
      "“glm.fit: algorithm did not converge”Warning message:\n",
      "“glm.fit: fitted probabilities numerically 0 or 1 occurred”"
     ]
    },
    {
     "name": "stdout",
     "output_type": "stream",
     "text": [
      "[1] 757\n",
      "[1] 758\n",
      "[1] 759\n",
      "[1] 760\n",
      "[1] 761\n",
      "[1] 762\n",
      "[1] 763\n",
      "[1] 764\n",
      "[1] 765\n",
      "[1] 766\n",
      "[1] 767\n",
      "[1] 768\n",
      "[1] 769\n",
      "[1] 770\n",
      "[1] 771\n",
      "[1] 772\n",
      "[1] 773\n",
      "[1] 774\n",
      "[1] 775\n",
      "[1] 776\n",
      "[1] 777\n",
      "[1] 778\n",
      "[1] 779\n",
      "[1] 780\n",
      "[1] 781\n",
      "[1] 782\n",
      "[1] 783\n",
      "[1] 784\n"
     ]
    },
    {
     "name": "stderr",
     "output_type": "stream",
     "text": [
      "Warning message:\n",
      "“glm.fit: fitted probabilities numerically 0 or 1 occurred”Warning message:\n",
      "“glm.fit: fitted probabilities numerically 0 or 1 occurred”Warning message:\n",
      "“glm.fit: fitted probabilities numerically 0 or 1 occurred”"
     ]
    },
    {
     "name": "stdout",
     "output_type": "stream",
     "text": [
      "[1] 785\n",
      "[1] 786\n",
      "[1] 787\n",
      "[1] 788\n",
      "[1] 789\n",
      "[1] 790\n",
      "[1] 791\n",
      "[1] 792\n",
      "[1] 793\n",
      "[1] 794\n"
     ]
    },
    {
     "name": "stderr",
     "output_type": "stream",
     "text": [
      "Warning message:\n",
      "“glm.fit: algorithm did not converge”Warning message:\n",
      "“glm.fit: fitted probabilities numerically 0 or 1 occurred”Warning message:\n",
      "“glm.fit: algorithm did not converge”Warning message:\n",
      "“glm.fit: fitted probabilities numerically 0 or 1 occurred”Warning message:\n",
      "“glm.fit: algorithm did not converge”Warning message:\n",
      "“glm.fit: fitted probabilities numerically 0 or 1 occurred”"
     ]
    },
    {
     "name": "stdout",
     "output_type": "stream",
     "text": [
      "[1] 795\n",
      "[1] 796\n",
      "[1] 797\n"
     ]
    },
    {
     "name": "stderr",
     "output_type": "stream",
     "text": [
      "Warning message:\n",
      "“glm.fit: fitted probabilities numerically 0 or 1 occurred”Warning message:\n",
      "“glm.fit: fitted probabilities numerically 0 or 1 occurred”Warning message:\n",
      "“glm.fit: fitted probabilities numerically 0 or 1 occurred”"
     ]
    },
    {
     "name": "stdout",
     "output_type": "stream",
     "text": [
      "[1] 798\n",
      "[1] 799\n",
      "[1] 800\n",
      "[1] 801\n",
      "[1] 802\n"
     ]
    },
    {
     "name": "stderr",
     "output_type": "stream",
     "text": [
      "Warning message:\n",
      "“glm.fit: fitted probabilities numerically 0 or 1 occurred”Warning message:\n",
      "“glm.fit: fitted probabilities numerically 0 or 1 occurred”Warning message:\n",
      "“glm.fit: fitted probabilities numerically 0 or 1 occurred”"
     ]
    },
    {
     "name": "stdout",
     "output_type": "stream",
     "text": [
      "[1] 803\n"
     ]
    },
    {
     "name": "stderr",
     "output_type": "stream",
     "text": [
      "Warning message:\n",
      "“glm.fit: fitted probabilities numerically 0 or 1 occurred”Warning message:\n",
      "“glm.fit: fitted probabilities numerically 0 or 1 occurred”Warning message:\n",
      "“glm.fit: fitted probabilities numerically 0 or 1 occurred”"
     ]
    },
    {
     "name": "stdout",
     "output_type": "stream",
     "text": [
      "[1] 804\n"
     ]
    },
    {
     "name": "stderr",
     "output_type": "stream",
     "text": [
      "Warning message:\n",
      "“glm.fit: fitted probabilities numerically 0 or 1 occurred”Warning message:\n",
      "“glm.fit: fitted probabilities numerically 0 or 1 occurred”Warning message:\n",
      "“glm.fit: fitted probabilities numerically 0 or 1 occurred”"
     ]
    },
    {
     "name": "stdout",
     "output_type": "stream",
     "text": [
      "[1] 805\n",
      "[1] 806\n",
      "[1] 807\n",
      "[1] 808\n",
      "[1] 809\n",
      "[1] 810\n",
      "[1] 811\n"
     ]
    },
    {
     "name": "stderr",
     "output_type": "stream",
     "text": [
      "Warning message:\n",
      "“glm.fit: fitted probabilities numerically 0 or 1 occurred”Warning message:\n",
      "“glm.fit: fitted probabilities numerically 0 or 1 occurred”Warning message:\n",
      "“glm.fit: fitted probabilities numerically 0 or 1 occurred”"
     ]
    },
    {
     "name": "stdout",
     "output_type": "stream",
     "text": [
      "[1] 812\n",
      "[1] 813\n",
      "[1] 814\n",
      "[1] 815\n",
      "[1] 816\n",
      "[1] 817\n",
      "[1] 818\n",
      "[1] 819\n",
      "[1] 820\n",
      "[1] 821\n",
      "[1] 822\n",
      "[1] 823\n",
      "[1] 824\n",
      "[1] 825\n",
      "[1] 826\n",
      "[1] 827\n",
      "[1] 828\n",
      "[1] 829\n",
      "[1] 830\n",
      "[1] 831\n",
      "[1] 832\n",
      "[1] 833\n",
      "[1] 834\n",
      "[1] 835\n",
      "[1] 836\n"
     ]
    },
    {
     "name": "stderr",
     "output_type": "stream",
     "text": [
      "Warning message:\n",
      "“glm.fit: algorithm did not converge”Warning message:\n",
      "“glm.fit: fitted probabilities numerically 0 or 1 occurred”Warning message:\n",
      "“glm.fit: algorithm did not converge”Warning message:\n",
      "“glm.fit: fitted probabilities numerically 0 or 1 occurred”Warning message:\n",
      "“glm.fit: algorithm did not converge”Warning message:\n",
      "“glm.fit: fitted probabilities numerically 0 or 1 occurred”"
     ]
    },
    {
     "name": "stdout",
     "output_type": "stream",
     "text": [
      "[1] 837\n",
      "[1] 838\n",
      "[1] 839\n",
      "[1] 840\n",
      "[1] 841\n",
      "[1] 842\n",
      "[1] 843\n",
      "[1] 844\n",
      "[1] 845\n",
      "[1] 846\n",
      "[1] 847\n",
      "[1] 848\n",
      "[1] 849\n",
      "[1] 850\n",
      "[1] 851\n",
      "[1] 852\n",
      "[1] 853\n",
      "[1] 854\n",
      "[1] 855\n"
     ]
    },
    {
     "name": "stderr",
     "output_type": "stream",
     "text": [
      "Warning message:\n",
      "“glm.fit: fitted probabilities numerically 0 or 1 occurred”Warning message:\n",
      "“glm.fit: fitted probabilities numerically 0 or 1 occurred”Warning message:\n",
      "“glm.fit: fitted probabilities numerically 0 or 1 occurred”"
     ]
    },
    {
     "name": "stdout",
     "output_type": "stream",
     "text": [
      "[1] 856\n",
      "[1] 857\n",
      "[1] 858\n",
      "[1] 859\n"
     ]
    },
    {
     "name": "stderr",
     "output_type": "stream",
     "text": [
      "Warning message:\n",
      "“glm.fit: algorithm did not converge”Warning message:\n",
      "“glm.fit: fitted probabilities numerically 0 or 1 occurred”Warning message:\n",
      "“glm.fit: algorithm did not converge”Warning message:\n",
      "“glm.fit: fitted probabilities numerically 0 or 1 occurred”Warning message:\n",
      "“glm.fit: algorithm did not converge”Warning message:\n",
      "“glm.fit: fitted probabilities numerically 0 or 1 occurred”"
     ]
    },
    {
     "name": "stdout",
     "output_type": "stream",
     "text": [
      "[1] 860\n"
     ]
    },
    {
     "name": "stderr",
     "output_type": "stream",
     "text": [
      "Warning message:\n",
      "“glm.fit: fitted probabilities numerically 0 or 1 occurred”Warning message:\n",
      "“glm.fit: fitted probabilities numerically 0 or 1 occurred”Warning message:\n",
      "“glm.fit: fitted probabilities numerically 0 or 1 occurred”"
     ]
    },
    {
     "name": "stdout",
     "output_type": "stream",
     "text": [
      "[1] 861\n",
      "[1] 862\n",
      "[1] 863\n",
      "[1] 864\n",
      "[1] 865\n",
      "[1] 866\n",
      "[1] 867\n",
      "[1] 868\n",
      "[1] 869\n",
      "[1] 870\n",
      "[1] 871\n",
      "[1] 872\n",
      "[1] 873\n",
      "[1] 874\n",
      "[1] 875\n",
      "[1] 876\n",
      "[1] 877\n",
      "[1] 878\n",
      "[1] 879\n",
      "[1] 880\n",
      "[1] 881\n",
      "[1] 882\n",
      "[1] 883\n",
      "[1] 884\n",
      "[1] 885\n"
     ]
    },
    {
     "name": "stderr",
     "output_type": "stream",
     "text": [
      "Warning message:\n",
      "“glm.fit: algorithm did not converge”Warning message:\n",
      "“glm.fit: fitted probabilities numerically 0 or 1 occurred”Warning message:\n",
      "“glm.fit: algorithm did not converge”Warning message:\n",
      "“glm.fit: fitted probabilities numerically 0 or 1 occurred”Warning message:\n",
      "“glm.fit: algorithm did not converge”Warning message:\n",
      "“glm.fit: fitted probabilities numerically 0 or 1 occurred”"
     ]
    },
    {
     "name": "stdout",
     "output_type": "stream",
     "text": [
      "[1] 886\n",
      "[1] 887\n",
      "[1] 888\n",
      "[1] 889\n",
      "[1] 890\n",
      "[1] 891\n",
      "[1] 892\n",
      "[1] 893\n",
      "[1] 894\n",
      "[1] 895\n",
      "[1] 896\n",
      "[1] 897\n",
      "[1] 898\n"
     ]
    },
    {
     "name": "stderr",
     "output_type": "stream",
     "text": [
      "Warning message:\n",
      "“glm.fit: fitted probabilities numerically 0 or 1 occurred”Warning message:\n",
      "“glm.fit: fitted probabilities numerically 0 or 1 occurred”Warning message:\n",
      "“glm.fit: fitted probabilities numerically 0 or 1 occurred”"
     ]
    },
    {
     "name": "stdout",
     "output_type": "stream",
     "text": [
      "[1] 899\n",
      "[1] 900\n",
      "[1] 901\n"
     ]
    },
    {
     "name": "stderr",
     "output_type": "stream",
     "text": [
      "Warning message:\n",
      "“glm.fit: fitted probabilities numerically 0 or 1 occurred”Warning message:\n",
      "“glm.fit: fitted probabilities numerically 0 or 1 occurred”Warning message:\n",
      "“glm.fit: fitted probabilities numerically 0 or 1 occurred”"
     ]
    },
    {
     "name": "stdout",
     "output_type": "stream",
     "text": [
      "[1] 902\n",
      "[1] 903\n",
      "[1] 904\n",
      "[1] 905\n",
      "[1] 906\n",
      "[1] 907\n",
      "[1] 908\n",
      "[1] 909\n",
      "[1] 910\n",
      "[1] 911\n",
      "[1] 912\n",
      "[1] 913\n",
      "[1] 914\n",
      "[1] 915\n",
      "[1] 916\n",
      "[1] 917\n",
      "[1] 918\n",
      "[1] 919\n",
      "[1] 920\n",
      "[1] 921\n"
     ]
    },
    {
     "name": "stderr",
     "output_type": "stream",
     "text": [
      "Warning message:\n",
      "“glm.fit: algorithm did not converge”Warning message:\n",
      "“glm.fit: fitted probabilities numerically 0 or 1 occurred”Warning message:\n",
      "“glm.fit: algorithm did not converge”Warning message:\n",
      "“glm.fit: fitted probabilities numerically 0 or 1 occurred”Warning message:\n",
      "“glm.fit: algorithm did not converge”Warning message:\n",
      "“glm.fit: fitted probabilities numerically 0 or 1 occurred”"
     ]
    },
    {
     "name": "stdout",
     "output_type": "stream",
     "text": [
      "[1] 922\n",
      "[1] 923\n",
      "[1] 924\n"
     ]
    },
    {
     "name": "stderr",
     "output_type": "stream",
     "text": [
      "Warning message:\n",
      "“glm.fit: fitted probabilities numerically 0 or 1 occurred”Warning message:\n",
      "“glm.fit: fitted probabilities numerically 0 or 1 occurred”Warning message:\n",
      "“glm.fit: fitted probabilities numerically 0 or 1 occurred”"
     ]
    },
    {
     "name": "stdout",
     "output_type": "stream",
     "text": [
      "[1] 925\n",
      "[1] 926\n",
      "[1] 927\n",
      "[1] 928\n",
      "[1] 929\n",
      "[1] 930\n",
      "[1] 931\n",
      "[1] 932\n",
      "[1] 933\n",
      "[1] 934\n",
      "[1] 935\n",
      "[1] 936\n",
      "[1] 937\n",
      "[1] 938\n",
      "[1] 939\n"
     ]
    },
    {
     "name": "stderr",
     "output_type": "stream",
     "text": [
      "Warning message:\n",
      "“glm.fit: fitted probabilities numerically 0 or 1 occurred”Warning message:\n",
      "“glm.fit: fitted probabilities numerically 0 or 1 occurred”Warning message:\n",
      "“glm.fit: fitted probabilities numerically 0 or 1 occurred”"
     ]
    },
    {
     "name": "stdout",
     "output_type": "stream",
     "text": [
      "[1] 940\n",
      "[1] 941\n",
      "[1] 942\n",
      "[1] 943\n",
      "[1] 944\n",
      "[1] 945\n",
      "[1] 946\n"
     ]
    },
    {
     "name": "stderr",
     "output_type": "stream",
     "text": [
      "Warning message:\n",
      "“glm.fit: fitted probabilities numerically 0 or 1 occurred”Warning message:\n",
      "“glm.fit: fitted probabilities numerically 0 or 1 occurred”Warning message:\n",
      "“glm.fit: fitted probabilities numerically 0 or 1 occurred”"
     ]
    },
    {
     "name": "stdout",
     "output_type": "stream",
     "text": [
      "[1] 947\n",
      "[1] 948\n",
      "[1] 949\n",
      "[1] 950\n",
      "[1] 951\n"
     ]
    },
    {
     "name": "stderr",
     "output_type": "stream",
     "text": [
      "Warning message:\n",
      "“glm.fit: algorithm did not converge”Warning message:\n",
      "“glm.fit: fitted probabilities numerically 0 or 1 occurred”Warning message:\n",
      "“glm.fit: algorithm did not converge”Warning message:\n",
      "“glm.fit: fitted probabilities numerically 0 or 1 occurred”Warning message:\n",
      "“glm.fit: algorithm did not converge”Warning message:\n",
      "“glm.fit: fitted probabilities numerically 0 or 1 occurred”"
     ]
    },
    {
     "name": "stdout",
     "output_type": "stream",
     "text": [
      "[1] 952\n",
      "[1] 953\n",
      "[1] 954\n",
      "[1] 955\n",
      "[1] 956\n",
      "[1] 957\n",
      "[1] 958\n",
      "[1] 959\n",
      "[1] 960\n",
      "[1] 961\n",
      "[1] 962\n",
      "[1] 963\n",
      "[1] 964\n",
      "[1] 965\n",
      "[1] 966\n"
     ]
    },
    {
     "name": "stderr",
     "output_type": "stream",
     "text": [
      "Warning message:\n",
      "“glm.fit: algorithm did not converge”Warning message:\n",
      "“glm.fit: fitted probabilities numerically 0 or 1 occurred”Warning message:\n",
      "“glm.fit: algorithm did not converge”Warning message:\n",
      "“glm.fit: fitted probabilities numerically 0 or 1 occurred”Warning message:\n",
      "“glm.fit: algorithm did not converge”Warning message:\n",
      "“glm.fit: fitted probabilities numerically 0 or 1 occurred”"
     ]
    },
    {
     "name": "stdout",
     "output_type": "stream",
     "text": [
      "[1] 967\n",
      "[1] 968\n",
      "[1] 969\n",
      "[1] 970\n",
      "[1] 971\n",
      "[1] 972\n",
      "[1] 973\n",
      "[1] 974\n",
      "[1] 975\n",
      "[1] 976\n",
      "[1] 977\n",
      "[1] 978\n",
      "[1] 979\n"
     ]
    },
    {
     "name": "stderr",
     "output_type": "stream",
     "text": [
      "Warning message:\n",
      "“glm.fit: fitted probabilities numerically 0 or 1 occurred”Warning message:\n",
      "“glm.fit: fitted probabilities numerically 0 or 1 occurred”Warning message:\n",
      "“glm.fit: fitted probabilities numerically 0 or 1 occurred”"
     ]
    },
    {
     "name": "stdout",
     "output_type": "stream",
     "text": [
      "[1] 980\n"
     ]
    },
    {
     "name": "stderr",
     "output_type": "stream",
     "text": [
      "Warning message:\n",
      "“glm.fit: fitted probabilities numerically 0 or 1 occurred”Warning message:\n",
      "“glm.fit: fitted probabilities numerically 0 or 1 occurred”Warning message:\n",
      "“glm.fit: fitted probabilities numerically 0 or 1 occurred”"
     ]
    },
    {
     "name": "stdout",
     "output_type": "stream",
     "text": [
      "[1] 981\n",
      "[1] 982\n",
      "[1] 983\n",
      "[1] 984\n",
      "[1] 985\n",
      "[1] 986\n",
      "[1] 987\n",
      "[1] 988\n",
      "[1] 989\n",
      "[1] 990\n",
      "[1] 991\n",
      "[1] 992\n",
      "[1] 993\n"
     ]
    },
    {
     "name": "stderr",
     "output_type": "stream",
     "text": [
      "Warning message:\n",
      "“glm.fit: algorithm did not converge”Warning message:\n",
      "“glm.fit: fitted probabilities numerically 0 or 1 occurred”Warning message:\n",
      "“glm.fit: algorithm did not converge”Warning message:\n",
      "“glm.fit: fitted probabilities numerically 0 or 1 occurred”Warning message:\n",
      "“glm.fit: algorithm did not converge”Warning message:\n",
      "“glm.fit: fitted probabilities numerically 0 or 1 occurred”"
     ]
    },
    {
     "name": "stdout",
     "output_type": "stream",
     "text": [
      "[1] 994\n",
      "[1] 995\n",
      "[1] 996\n",
      "[1] 997\n"
     ]
    },
    {
     "name": "stderr",
     "output_type": "stream",
     "text": [
      "Warning message:\n",
      "“glm.fit: fitted probabilities numerically 0 or 1 occurred”Warning message:\n",
      "“glm.fit: fitted probabilities numerically 0 or 1 occurred”Warning message:\n",
      "“glm.fit: fitted probabilities numerically 0 or 1 occurred”"
     ]
    },
    {
     "name": "stdout",
     "output_type": "stream",
     "text": [
      "[1] 998\n",
      "[1] 999\n",
      "[1] 1000\n",
      "[1] \"done\"\n"
     ]
    }
   ],
   "source": [
    "for (j in 1:N){ #N different measurements of AUC values, mean done at the end. \n",
    "  \n",
    "  smp_size <- floor(0.65 * nrow(Betas_select2))\n",
    "  #set.seed(907)\n",
    "  train_ind <- sample(seq_len(nrow(Betas_select2)), size = smp_size)\n",
    "  \n",
    "  # Training set\n",
    "  train <- Betas_select2[train_ind, ]\n",
    "  \n",
    "  # Test set\n",
    "  test <- Betas_select2[-train_ind, ]\n",
    "  \n",
    "  xtrain <- model.matrix(Label~. -1, data = train)\n",
    "  \n",
    "  ytrain <- train$Label\n",
    "  xtest <- model.matrix(Label~. -1, data = test)\n",
    "  ytest <- test$Label\n",
    "  \n",
    "  xtest <- data.frame(xtest)\n",
    "  xtrain <- data.frame(xtrain)\n",
    "  names(xtrain) <- names(train)[1:dim(train)[2]-1]\n",
    "  names(xtest) <- names(test)[1:dim(train)[2]-1]\n",
    "  \n",
    "  multipleAUCNB[1,j] <- multipleAUCfunNB(xtrain, ytrain,xtest,ytest)\n",
    "  multipleAUC[1,j] <- multipleAUCfun(xtrain, ytrain,xtest,ytest)\n",
    "  \n",
    "  multipleNBROC[[j]] <- multipleROCfunNB(xtrain, ytrain,xtest,ytest)\n",
    "  \n",
    "  multipleROC[[j]] <- multipleROCfun(xtrain, ytrain,xtest,ytest)\n",
    "  multiplePlus[1,j] <- multiplePlusfun(xtrain, ytrain,xtest,ytest)\n",
    "  \n",
    "  #separate\n",
    "  \n",
    "  for (s in (1:(NumVar-1))){\n",
    "    s <- as.numeric(s)\n",
    "    singleAUC[s,j] <- singleAUCfun(xtrain, ytrain,xtest,ytest,s) \n",
    "    singleROC[[s]] <- singleROCfun(xtrain, ytrain,xtest,ytest,s) \n",
    "    MatsinglePlus[s,j] <- singlePlusfun(xtrain, ytrain,xtest,ytest,s) \n",
    "  }\n",
    "  MatsingleROC[,j] <- matrix(singleROC)\n",
    "  \n",
    "  \n",
    "  #Null Hypothesis #### \n",
    "  \n",
    "  \n",
    "  # Training set\n",
    "  \n",
    "  train$Label <- sample(train$Label)\n",
    "  test$Label <- sample(test$Label)\n",
    "  #Permuted data, will make sure that are models are really valid as randomizing the label should yield around 0.5 AUC values. The same testing and training arrangements for the real per model are used. \n",
    "  \n",
    "  # Test set\n",
    "  \n",
    "  \n",
    "  xtrain <- model.matrix(Label~. -1, data = train)\n",
    "  \n",
    "  ytrain <- train$Label\n",
    "  xtest <- model.matrix(Label~. -1, data = test)\n",
    "  ytest <- test$Label\n",
    "  \n",
    "  xtest <- data.frame(xtest)\n",
    "  xtrain <- data.frame(xtrain)\n",
    "  names(xtrain) <- names(train)[1:dim(train)[2]-1]\n",
    "  names(xtest) <- names(test)[1:dim(train)[2]-1]\n",
    "\n",
    "  \n",
    "  multipleAUCNBR[1,j] <- multipleAUCfunNB(xtrain, ytrain,xtest,ytest)\n",
    "  multipleAUCR[1,j] <- multipleAUCfun(xtrain, ytrain,xtest,ytest)\n",
    "  multiplePlusR[1,j] <- multiplePlusfun(xtrain, ytrain,xtest,ytest)\n",
    "  \n",
    "  multipleNBROCR[[j]] <- multipleROCfunNB(xtrain, ytrain,xtest,ytest)\n",
    "  multipleROCR[[j]] <- multipleROCfun(xtrain, ytrain,xtest,ytest)\n",
    "  \n",
    "  \n",
    "  for (s in (1:(NumVar-1))){\n",
    "    s <- as.numeric(s)\n",
    "    singleAUCR[s,j] <- singleAUCfun(xtrain, ytrain,xtest,ytest,s) \n",
    "    singleROCR[[s]] <- singleROCfun(xtrain, ytrain,xtest,ytest,s) \n",
    "    MatsinglePlusR[s,j] <- singlePlusfun(xtrain, ytrain,xtest,ytest,s) \n",
    "  }\n",
    "  MatsingleROCR[,j] <- matrix(singleROCR)\n",
    "  \n",
    "    print(j)\n",
    "}\n",
    "\n",
    "print(\"done\");\n",
    "\n"
   ]
  },
  {
   "cell_type": "code",
   "execution_count": 12,
   "metadata": {
    "scrolled": true
   },
   "outputs": [
    {
     "data": {
      "text/plain": [
       "      Mono                  Label     \n",
       " Min.   :0.1197   Model        :1000  \n",
       " 1st Qu.:0.4956   Permuted data:1000  \n",
       " Median :0.7500                       \n",
       " Mean   :0.7076                       \n",
       " 3rd Qu.:0.9275                       \n",
       " Max.   :1.0000                       "
      ]
     },
     "metadata": {},
     "output_type": "display_data"
    },
    {
     "data": {
      "text/html": [
       "<table>\n",
       "<thead><tr><th></th><th scope=col>V1</th><th scope=col>V2</th><th scope=col>V3</th><th scope=col>V4</th><th scope=col>V5</th><th scope=col>V6</th><th scope=col>V7</th><th scope=col>V8</th><th scope=col>V9</th><th scope=col>V10</th><th scope=col>⋯</th><th scope=col>V992</th><th scope=col>V993</th><th scope=col>V994</th><th scope=col>V995</th><th scope=col>V996</th><th scope=col>V997</th><th scope=col>V998</th><th scope=col>V999</th><th scope=col>V1000</th><th scope=col>Means</th></tr></thead>\n",
       "<tbody>\n",
       "\t<tr><th scope=row>NISS</th><td>0.7083333</td><td>0.7916667</td><td>0.7187500</td><td>0.7666667</td><td>0.7343750</td><td>0.7589286</td><td>0.7350427</td><td>0.8208333</td><td>0.5165289</td><td>0.7083333</td><td>⋯        </td><td>0.7685950</td><td>0.7905983</td><td>0.6666667</td><td>0.6833333</td><td>0.6900826</td><td>0.8500000</td><td>0.7735043</td><td>0.6538462</td><td>0.5104167</td><td>0.7218593</td></tr>\n",
       "\t<tr><th scope=row>First Time Monocytes %</th><td>0.7125000</td><td>0.4875000</td><td>0.7708333</td><td>0.7833333</td><td>0.7395833</td><td>0.7008929</td><td>0.6196581</td><td>0.6750000</td><td>0.8388430</td><td>0.7250000</td><td>⋯        </td><td>0.5743802</td><td>0.7008547</td><td>0.6324786</td><td>0.6708333</td><td>0.7479339</td><td>0.7250000</td><td>0.5811966</td><td>0.9059829</td><td>0.7708333</td><td>0.7216360</td></tr>\n",
       "\t<tr><th scope=row>Third Time CD63 (MedFI)</th><td>0.7666667</td><td>0.8000000</td><td>0.7604167</td><td>0.7750000</td><td>0.6770833</td><td>0.6696429</td><td>0.6752137</td><td>0.6750000</td><td>0.5619835</td><td>0.7333333</td><td>⋯        </td><td>0.6611570</td><td>0.7094017</td><td>0.7264957</td><td>0.5916667</td><td>0.7851240</td><td>0.7416667</td><td>0.8461538</td><td>0.6581197</td><td>0.5312500</td><td>0.7050690</td></tr>\n",
       "\t<tr><th scope=row>Third Time Decrease in CD62L after FMLF (MedFI)</th><td>0.7375000</td><td>0.7583333</td><td>0.7760417</td><td>0.7333333</td><td>0.9270833</td><td>0.6517857</td><td>0.7307692</td><td>0.9166667</td><td>0.8181818</td><td>0.7500000</td><td>⋯        </td><td>0.7355372</td><td>0.6452991</td><td>0.7649573</td><td>0.7666667</td><td>0.6198347</td><td>0.6333333</td><td>0.5641026</td><td>0.6495726</td><td>0.7291667</td><td>0.7260258</td></tr>\n",
       "</tbody>\n",
       "</table>\n"
      ],
      "text/latex": [
       "\\begin{tabular}{r|lllllllllllllllllllllllllllllllllllllllllllllllllllllllllllllllllllllllllllllllllllllllllllllllllllllllllllllllllllllllllllllllllllllllllllllllllllllllllllllllllllllllllllllllllllllllllllllllllllllllllllllllllllllllllllllllllllllllllllllllllllllllllllllllllllllllllllllllllllllllllllllllllllllllllllllllllllllllllllllllllllllllllllllllllllllllllllllllllllllllllllllllllllllllllllllllllllllllllllllllllllllllllllllllllllllllllllllllllllllllllllllllllllllllllllllllllllllllllllllllllllllllllllllllllllllllllllllllllllllllllllllllllllllllllllllllllllllllllllllllllllllllllllllllllllllllllllllllllllllllllllllllllllllllllllllllllllllllllllllllllllllllllllllllllllllllllllllllllllllllllllllllllllllllllllllllllllllllllllllllllllllllllllllllllllllllllllllllllllllllllllllllllllllllllllllllllllllllllllllllllllllllllllllllllllllllllllllllllllllllllllllllllllllllllllllllllllllllllllllllllllllllllllllllllllllllllllllllllllllllllllllllllllllllllllllllllllllllllllllllllllllllllllllllllllllllllllllllllllllllll}\n",
       "  & V1 & V2 & V3 & V4 & V5 & V6 & V7 & V8 & V9 & V10 & ⋯ & V992 & V993 & V994 & V995 & V996 & V997 & V998 & V999 & V1000 & Means\\\\\n",
       "\\hline\n",
       "\tNISS & 0.7083333 & 0.7916667 & 0.7187500 & 0.7666667 & 0.7343750 & 0.7589286 & 0.7350427 & 0.8208333 & 0.5165289 & 0.7083333 & ⋯         & 0.7685950 & 0.7905983 & 0.6666667 & 0.6833333 & 0.6900826 & 0.8500000 & 0.7735043 & 0.6538462 & 0.5104167 & 0.7218593\\\\\n",
       "\tFirst Time Monocytes \\% & 0.7125000 & 0.4875000 & 0.7708333 & 0.7833333 & 0.7395833 & 0.7008929 & 0.6196581 & 0.6750000 & 0.8388430 & 0.7250000 & ⋯         & 0.5743802 & 0.7008547 & 0.6324786 & 0.6708333 & 0.7479339 & 0.7250000 & 0.5811966 & 0.9059829 & 0.7708333 & 0.7216360\\\\\n",
       "\tThird Time CD63 (MedFI) & 0.7666667 & 0.8000000 & 0.7604167 & 0.7750000 & 0.6770833 & 0.6696429 & 0.6752137 & 0.6750000 & 0.5619835 & 0.7333333 & ⋯         & 0.6611570 & 0.7094017 & 0.7264957 & 0.5916667 & 0.7851240 & 0.7416667 & 0.8461538 & 0.6581197 & 0.5312500 & 0.7050690\\\\\n",
       "\tThird Time Decrease in CD62L after FMLF (MedFI) & 0.7375000 & 0.7583333 & 0.7760417 & 0.7333333 & 0.9270833 & 0.6517857 & 0.7307692 & 0.9166667 & 0.8181818 & 0.7500000 & ⋯         & 0.7355372 & 0.6452991 & 0.7649573 & 0.7666667 & 0.6198347 & 0.6333333 & 0.5641026 & 0.6495726 & 0.7291667 & 0.7260258\\\\\n",
       "\\end{tabular}\n"
      ],
      "text/markdown": [
       "\n",
       "| <!--/--> | V1 | V2 | V3 | V4 | V5 | V6 | V7 | V8 | V9 | V10 | ⋯ | V992 | V993 | V994 | V995 | V996 | V997 | V998 | V999 | V1000 | Means | \n",
       "|---|---|---|---|\n",
       "| NISS | 0.7083333 | 0.7916667 | 0.7187500 | 0.7666667 | 0.7343750 | 0.7589286 | 0.7350427 | 0.8208333 | 0.5165289 | 0.7083333 | ⋯         | 0.7685950 | 0.7905983 | 0.6666667 | 0.6833333 | 0.6900826 | 0.8500000 | 0.7735043 | 0.6538462 | 0.5104167 | 0.7218593 | \n",
       "| First Time Monocytes % | 0.7125000 | 0.4875000 | 0.7708333 | 0.7833333 | 0.7395833 | 0.7008929 | 0.6196581 | 0.6750000 | 0.8388430 | 0.7250000 | ⋯         | 0.5743802 | 0.7008547 | 0.6324786 | 0.6708333 | 0.7479339 | 0.7250000 | 0.5811966 | 0.9059829 | 0.7708333 | 0.7216360 | \n",
       "| Third Time CD63 (MedFI) | 0.7666667 | 0.8000000 | 0.7604167 | 0.7750000 | 0.6770833 | 0.6696429 | 0.6752137 | 0.6750000 | 0.5619835 | 0.7333333 | ⋯         | 0.6611570 | 0.7094017 | 0.7264957 | 0.5916667 | 0.7851240 | 0.7416667 | 0.8461538 | 0.6581197 | 0.5312500 | 0.7050690 | \n",
       "| Third Time Decrease in CD62L after FMLF (MedFI) | 0.7375000 | 0.7583333 | 0.7760417 | 0.7333333 | 0.9270833 | 0.6517857 | 0.7307692 | 0.9166667 | 0.8181818 | 0.7500000 | ⋯         | 0.7355372 | 0.6452991 | 0.7649573 | 0.7666667 | 0.6198347 | 0.6333333 | 0.5641026 | 0.6495726 | 0.7291667 | 0.7260258 | \n",
       "\n",
       "\n"
      ],
      "text/plain": [
       "                                                V1        V2        V3       \n",
       "NISS                                            0.7083333 0.7916667 0.7187500\n",
       "First Time Monocytes %                          0.7125000 0.4875000 0.7708333\n",
       "Third Time CD63 (MedFI)                         0.7666667 0.8000000 0.7604167\n",
       "Third Time Decrease in CD62L after FMLF (MedFI) 0.7375000 0.7583333 0.7760417\n",
       "                                                V4        V5        V6       \n",
       "NISS                                            0.7666667 0.7343750 0.7589286\n",
       "First Time Monocytes %                          0.7833333 0.7395833 0.7008929\n",
       "Third Time CD63 (MedFI)                         0.7750000 0.6770833 0.6696429\n",
       "Third Time Decrease in CD62L after FMLF (MedFI) 0.7333333 0.9270833 0.6517857\n",
       "                                                V7        V8        V9       \n",
       "NISS                                            0.7350427 0.8208333 0.5165289\n",
       "First Time Monocytes %                          0.6196581 0.6750000 0.8388430\n",
       "Third Time CD63 (MedFI)                         0.6752137 0.6750000 0.5619835\n",
       "Third Time Decrease in CD62L after FMLF (MedFI) 0.7307692 0.9166667 0.8181818\n",
       "                                                V10       ⋯ V992      V993     \n",
       "NISS                                            0.7083333 ⋯ 0.7685950 0.7905983\n",
       "First Time Monocytes %                          0.7250000 ⋯ 0.5743802 0.7008547\n",
       "Third Time CD63 (MedFI)                         0.7333333 ⋯ 0.6611570 0.7094017\n",
       "Third Time Decrease in CD62L after FMLF (MedFI) 0.7500000 ⋯ 0.7355372 0.6452991\n",
       "                                                V994      V995      V996     \n",
       "NISS                                            0.6666667 0.6833333 0.6900826\n",
       "First Time Monocytes %                          0.6324786 0.6708333 0.7479339\n",
       "Third Time CD63 (MedFI)                         0.7264957 0.5916667 0.7851240\n",
       "Third Time Decrease in CD62L after FMLF (MedFI) 0.7649573 0.7666667 0.6198347\n",
       "                                                V997      V998      V999     \n",
       "NISS                                            0.8500000 0.7735043 0.6538462\n",
       "First Time Monocytes %                          0.7250000 0.5811966 0.9059829\n",
       "Third Time CD63 (MedFI)                         0.7416667 0.8461538 0.6581197\n",
       "Third Time Decrease in CD62L after FMLF (MedFI) 0.6333333 0.5641026 0.6495726\n",
       "                                                V1000     Means    \n",
       "NISS                                            0.5104167 0.7218593\n",
       "First Time Monocytes %                          0.7708333 0.7216360\n",
       "Third Time CD63 (MedFI)                         0.5312500 0.7050690\n",
       "Third Time Decrease in CD62L after FMLF (MedFI) 0.7291667 0.7260258"
      ]
     },
     "metadata": {},
     "output_type": "display_data"
    },
    {
     "data": {
      "text/html": [
       "<table>\n",
       "<thead><tr><th></th><th scope=col>Multi</th><th scope=col>MultiRand</th></tr></thead>\n",
       "<tbody>\n",
       "\t<tr><th scope=row>V1</th><td>0.9583333</td><td>0.4250000</td></tr>\n",
       "\t<tr><th scope=row>V2</th><td>0.8000000</td><td>0.2250000</td></tr>\n",
       "\t<tr><th scope=row>V3</th><td>0.9375000</td><td>0.6354167</td></tr>\n",
       "\t<tr><th scope=row>V4</th><td>0.9416667</td><td>0.2750000</td></tr>\n",
       "\t<tr><th scope=row>V5</th><td>0.9479167</td><td>0.7187500</td></tr>\n",
       "\t<tr><th scope=row>V6</th><td>0.9107143</td><td>0.4821429</td></tr>\n",
       "\t<tr><th scope=row>V7</th><td>0.9316239</td><td>0.4017094</td></tr>\n",
       "\t<tr><th scope=row>V8</th><td>1.0000000</td><td>0.6083333</td></tr>\n",
       "\t<tr><th scope=row>V9</th><td>0.8677686</td><td>0.4628099</td></tr>\n",
       "\t<tr><th scope=row>V10</th><td>0.9833333</td><td>0.5583333</td></tr>\n",
       "\t<tr><th scope=row>V11</th><td>0.9285714</td><td>0.4821429</td></tr>\n",
       "\t<tr><th scope=row>V12</th><td>0.9732143</td><td>0.5178571</td></tr>\n",
       "\t<tr><th scope=row>V13</th><td>0.9333333</td><td>0.6833333</td></tr>\n",
       "\t<tr><th scope=row>V14</th><td>0.7416667</td><td>0.5166667</td></tr>\n",
       "\t<tr><th scope=row>V15</th><td>0.9316239</td><td>0.5641026</td></tr>\n",
       "\t<tr><th scope=row>V16</th><td>0.9487179</td><td>0.4615385</td></tr>\n",
       "\t<tr><th scope=row>V17</th><td>0.9090909</td><td>0.6776860</td></tr>\n",
       "\t<tr><th scope=row>V18</th><td>0.9821429</td><td>0.7589286</td></tr>\n",
       "\t<tr><th scope=row>V19</th><td>0.9586777</td><td>0.5041322</td></tr>\n",
       "\t<tr><th scope=row>V20</th><td>0.9166667</td><td>0.3333333</td></tr>\n",
       "\t<tr><th scope=row>V21</th><td>0.8750000</td><td>0.4107143</td></tr>\n",
       "\t<tr><th scope=row>V22</th><td>1.0000000</td><td>0.3333333</td></tr>\n",
       "\t<tr><th scope=row>V23</th><td>0.8119658</td><td>0.3333333</td></tr>\n",
       "\t<tr><th scope=row>V24</th><td>0.8928571</td><td>0.5714286</td></tr>\n",
       "\t<tr><th scope=row>V25</th><td>0.9833333</td><td>0.7583333</td></tr>\n",
       "\t<tr><th scope=row>V26</th><td>0.9107143</td><td>0.5000000</td></tr>\n",
       "\t<tr><th scope=row>V27</th><td>0.9428571</td><td>0.6285714</td></tr>\n",
       "\t<tr><th scope=row>V28</th><td>0.9669421</td><td>0.5206612</td></tr>\n",
       "\t<tr><th scope=row>V29</th><td>0.9669421</td><td>0.5371901</td></tr>\n",
       "\t<tr><th scope=row>V30</th><td>1.0000000</td><td>0.3839286</td></tr>\n",
       "\t<tr><th scope=row>⋮</th><td>⋮</td><td>⋮</td></tr>\n",
       "\t<tr><th scope=row>V972</th><td>0.9166667</td><td>0.7083333</td></tr>\n",
       "\t<tr><th scope=row>V973</th><td>0.8974359</td><td>0.3760684</td></tr>\n",
       "\t<tr><th scope=row>V974</th><td>0.9669421</td><td>0.4628099</td></tr>\n",
       "\t<tr><th scope=row>V975</th><td>0.9017857</td><td>0.4821429</td></tr>\n",
       "\t<tr><th scope=row>V976</th><td>0.9173554</td><td>0.6280992</td></tr>\n",
       "\t<tr><th scope=row>V977</th><td>0.9090909</td><td>0.5206612</td></tr>\n",
       "\t<tr><th scope=row>V978</th><td>0.9809524</td><td>0.3047619</td></tr>\n",
       "\t<tr><th scope=row>V979</th><td>0.9316239</td><td>0.4957265</td></tr>\n",
       "\t<tr><th scope=row>V980</th><td>0.8888889</td><td>0.8119658</td></tr>\n",
       "\t<tr><th scope=row>V981</th><td>0.8125000</td><td>0.5535714</td></tr>\n",
       "\t<tr><th scope=row>V982</th><td>1.0000000</td><td>0.4700855</td></tr>\n",
       "\t<tr><th scope=row>V983</th><td>0.8500000</td><td>0.4083333</td></tr>\n",
       "\t<tr><th scope=row>V984</th><td>0.9583333</td><td>0.3250000</td></tr>\n",
       "\t<tr><th scope=row>V985</th><td>0.9142857</td><td>0.5142857</td></tr>\n",
       "\t<tr><th scope=row>V986</th><td>0.8916667</td><td>0.5916667</td></tr>\n",
       "\t<tr><th scope=row>V987</th><td>0.9658120</td><td>0.4017094</td></tr>\n",
       "\t<tr><th scope=row>V988</th><td>0.9008264</td><td>0.5619835</td></tr>\n",
       "\t<tr><th scope=row>V989</th><td>0.9416667</td><td>0.5000000</td></tr>\n",
       "\t<tr><th scope=row>V990</th><td>0.9487179</td><td>0.5128205</td></tr>\n",
       "\t<tr><th scope=row>V991</th><td>0.9586777</td><td>0.7603306</td></tr>\n",
       "\t<tr><th scope=row>V992</th><td>0.9669421</td><td>0.6115702</td></tr>\n",
       "\t<tr><th scope=row>V993</th><td>0.9316239</td><td>0.4786325</td></tr>\n",
       "\t<tr><th scope=row>V994</th><td>0.7350427</td><td>0.5299145</td></tr>\n",
       "\t<tr><th scope=row>V995</th><td>0.9583333</td><td>0.6250000</td></tr>\n",
       "\t<tr><th scope=row>V996</th><td>0.9090909</td><td>0.4545455</td></tr>\n",
       "\t<tr><th scope=row>V997</th><td>0.9250000</td><td>0.5250000</td></tr>\n",
       "\t<tr><th scope=row>V998</th><td>0.7264957</td><td>0.6410256</td></tr>\n",
       "\t<tr><th scope=row>V999</th><td>0.8888889</td><td>0.5042735</td></tr>\n",
       "\t<tr><th scope=row>V1000</th><td>0.7812500</td><td>0.4791667</td></tr>\n",
       "\t<tr><th scope=row>Means</th><td>0.9169838</td><td>0.4982129</td></tr>\n",
       "</tbody>\n",
       "</table>\n"
      ],
      "text/latex": [
       "\\begin{tabular}{r|ll}\n",
       "  & Multi & MultiRand\\\\\n",
       "\\hline\n",
       "\tV1 & 0.9583333 & 0.4250000\\\\\n",
       "\tV2 & 0.8000000 & 0.2250000\\\\\n",
       "\tV3 & 0.9375000 & 0.6354167\\\\\n",
       "\tV4 & 0.9416667 & 0.2750000\\\\\n",
       "\tV5 & 0.9479167 & 0.7187500\\\\\n",
       "\tV6 & 0.9107143 & 0.4821429\\\\\n",
       "\tV7 & 0.9316239 & 0.4017094\\\\\n",
       "\tV8 & 1.0000000 & 0.6083333\\\\\n",
       "\tV9 & 0.8677686 & 0.4628099\\\\\n",
       "\tV10 & 0.9833333 & 0.5583333\\\\\n",
       "\tV11 & 0.9285714 & 0.4821429\\\\\n",
       "\tV12 & 0.9732143 & 0.5178571\\\\\n",
       "\tV13 & 0.9333333 & 0.6833333\\\\\n",
       "\tV14 & 0.7416667 & 0.5166667\\\\\n",
       "\tV15 & 0.9316239 & 0.5641026\\\\\n",
       "\tV16 & 0.9487179 & 0.4615385\\\\\n",
       "\tV17 & 0.9090909 & 0.6776860\\\\\n",
       "\tV18 & 0.9821429 & 0.7589286\\\\\n",
       "\tV19 & 0.9586777 & 0.5041322\\\\\n",
       "\tV20 & 0.9166667 & 0.3333333\\\\\n",
       "\tV21 & 0.8750000 & 0.4107143\\\\\n",
       "\tV22 & 1.0000000 & 0.3333333\\\\\n",
       "\tV23 & 0.8119658 & 0.3333333\\\\\n",
       "\tV24 & 0.8928571 & 0.5714286\\\\\n",
       "\tV25 & 0.9833333 & 0.7583333\\\\\n",
       "\tV26 & 0.9107143 & 0.5000000\\\\\n",
       "\tV27 & 0.9428571 & 0.6285714\\\\\n",
       "\tV28 & 0.9669421 & 0.5206612\\\\\n",
       "\tV29 & 0.9669421 & 0.5371901\\\\\n",
       "\tV30 & 1.0000000 & 0.3839286\\\\\n",
       "\t⋮ & ⋮ & ⋮\\\\\n",
       "\tV972 & 0.9166667 & 0.7083333\\\\\n",
       "\tV973 & 0.8974359 & 0.3760684\\\\\n",
       "\tV974 & 0.9669421 & 0.4628099\\\\\n",
       "\tV975 & 0.9017857 & 0.4821429\\\\\n",
       "\tV976 & 0.9173554 & 0.6280992\\\\\n",
       "\tV977 & 0.9090909 & 0.5206612\\\\\n",
       "\tV978 & 0.9809524 & 0.3047619\\\\\n",
       "\tV979 & 0.9316239 & 0.4957265\\\\\n",
       "\tV980 & 0.8888889 & 0.8119658\\\\\n",
       "\tV981 & 0.8125000 & 0.5535714\\\\\n",
       "\tV982 & 1.0000000 & 0.4700855\\\\\n",
       "\tV983 & 0.8500000 & 0.4083333\\\\\n",
       "\tV984 & 0.9583333 & 0.3250000\\\\\n",
       "\tV985 & 0.9142857 & 0.5142857\\\\\n",
       "\tV986 & 0.8916667 & 0.5916667\\\\\n",
       "\tV987 & 0.9658120 & 0.4017094\\\\\n",
       "\tV988 & 0.9008264 & 0.5619835\\\\\n",
       "\tV989 & 0.9416667 & 0.5000000\\\\\n",
       "\tV990 & 0.9487179 & 0.5128205\\\\\n",
       "\tV991 & 0.9586777 & 0.7603306\\\\\n",
       "\tV992 & 0.9669421 & 0.6115702\\\\\n",
       "\tV993 & 0.9316239 & 0.4786325\\\\\n",
       "\tV994 & 0.7350427 & 0.5299145\\\\\n",
       "\tV995 & 0.9583333 & 0.6250000\\\\\n",
       "\tV996 & 0.9090909 & 0.4545455\\\\\n",
       "\tV997 & 0.9250000 & 0.5250000\\\\\n",
       "\tV998 & 0.7264957 & 0.6410256\\\\\n",
       "\tV999 & 0.8888889 & 0.5042735\\\\\n",
       "\tV1000 & 0.7812500 & 0.4791667\\\\\n",
       "\tMeans & 0.9169838 & 0.4982129\\\\\n",
       "\\end{tabular}\n"
      ],
      "text/markdown": [
       "\n",
       "| <!--/--> | Multi | MultiRand | \n",
       "|---|---|---|---|---|---|---|---|---|---|---|---|---|---|---|---|---|---|---|---|---|---|---|---|---|---|---|---|---|---|---|---|---|---|---|---|---|---|---|---|---|---|---|---|---|---|---|---|---|---|---|---|---|---|---|---|---|---|---|---|---|\n",
       "| V1 | 0.9583333 | 0.4250000 | \n",
       "| V2 | 0.8000000 | 0.2250000 | \n",
       "| V3 | 0.9375000 | 0.6354167 | \n",
       "| V4 | 0.9416667 | 0.2750000 | \n",
       "| V5 | 0.9479167 | 0.7187500 | \n",
       "| V6 | 0.9107143 | 0.4821429 | \n",
       "| V7 | 0.9316239 | 0.4017094 | \n",
       "| V8 | 1.0000000 | 0.6083333 | \n",
       "| V9 | 0.8677686 | 0.4628099 | \n",
       "| V10 | 0.9833333 | 0.5583333 | \n",
       "| V11 | 0.9285714 | 0.4821429 | \n",
       "| V12 | 0.9732143 | 0.5178571 | \n",
       "| V13 | 0.9333333 | 0.6833333 | \n",
       "| V14 | 0.7416667 | 0.5166667 | \n",
       "| V15 | 0.9316239 | 0.5641026 | \n",
       "| V16 | 0.9487179 | 0.4615385 | \n",
       "| V17 | 0.9090909 | 0.6776860 | \n",
       "| V18 | 0.9821429 | 0.7589286 | \n",
       "| V19 | 0.9586777 | 0.5041322 | \n",
       "| V20 | 0.9166667 | 0.3333333 | \n",
       "| V21 | 0.8750000 | 0.4107143 | \n",
       "| V22 | 1.0000000 | 0.3333333 | \n",
       "| V23 | 0.8119658 | 0.3333333 | \n",
       "| V24 | 0.8928571 | 0.5714286 | \n",
       "| V25 | 0.9833333 | 0.7583333 | \n",
       "| V26 | 0.9107143 | 0.5000000 | \n",
       "| V27 | 0.9428571 | 0.6285714 | \n",
       "| V28 | 0.9669421 | 0.5206612 | \n",
       "| V29 | 0.9669421 | 0.5371901 | \n",
       "| V30 | 1.0000000 | 0.3839286 | \n",
       "| ⋮ | ⋮ | ⋮ | \n",
       "| V972 | 0.9166667 | 0.7083333 | \n",
       "| V973 | 0.8974359 | 0.3760684 | \n",
       "| V974 | 0.9669421 | 0.4628099 | \n",
       "| V975 | 0.9017857 | 0.4821429 | \n",
       "| V976 | 0.9173554 | 0.6280992 | \n",
       "| V977 | 0.9090909 | 0.5206612 | \n",
       "| V978 | 0.9809524 | 0.3047619 | \n",
       "| V979 | 0.9316239 | 0.4957265 | \n",
       "| V980 | 0.8888889 | 0.8119658 | \n",
       "| V981 | 0.8125000 | 0.5535714 | \n",
       "| V982 | 1.0000000 | 0.4700855 | \n",
       "| V983 | 0.8500000 | 0.4083333 | \n",
       "| V984 | 0.9583333 | 0.3250000 | \n",
       "| V985 | 0.9142857 | 0.5142857 | \n",
       "| V986 | 0.8916667 | 0.5916667 | \n",
       "| V987 | 0.9658120 | 0.4017094 | \n",
       "| V988 | 0.9008264 | 0.5619835 | \n",
       "| V989 | 0.9416667 | 0.5000000 | \n",
       "| V990 | 0.9487179 | 0.5128205 | \n",
       "| V991 | 0.9586777 | 0.7603306 | \n",
       "| V992 | 0.9669421 | 0.6115702 | \n",
       "| V993 | 0.9316239 | 0.4786325 | \n",
       "| V994 | 0.7350427 | 0.5299145 | \n",
       "| V995 | 0.9583333 | 0.6250000 | \n",
       "| V996 | 0.9090909 | 0.4545455 | \n",
       "| V997 | 0.9250000 | 0.5250000 | \n",
       "| V998 | 0.7264957 | 0.6410256 | \n",
       "| V999 | 0.8888889 | 0.5042735 | \n",
       "| V1000 | 0.7812500 | 0.4791667 | \n",
       "| Means | 0.9169838 | 0.4982129 | \n",
       "\n",
       "\n"
      ],
      "text/plain": [
       "      Multi     MultiRand\n",
       "V1    0.9583333 0.4250000\n",
       "V2    0.8000000 0.2250000\n",
       "V3    0.9375000 0.6354167\n",
       "V4    0.9416667 0.2750000\n",
       "V5    0.9479167 0.7187500\n",
       "V6    0.9107143 0.4821429\n",
       "V7    0.9316239 0.4017094\n",
       "V8    1.0000000 0.6083333\n",
       "V9    0.8677686 0.4628099\n",
       "V10   0.9833333 0.5583333\n",
       "V11   0.9285714 0.4821429\n",
       "V12   0.9732143 0.5178571\n",
       "V13   0.9333333 0.6833333\n",
       "V14   0.7416667 0.5166667\n",
       "V15   0.9316239 0.5641026\n",
       "V16   0.9487179 0.4615385\n",
       "V17   0.9090909 0.6776860\n",
       "V18   0.9821429 0.7589286\n",
       "V19   0.9586777 0.5041322\n",
       "V20   0.9166667 0.3333333\n",
       "V21   0.8750000 0.4107143\n",
       "V22   1.0000000 0.3333333\n",
       "V23   0.8119658 0.3333333\n",
       "V24   0.8928571 0.5714286\n",
       "V25   0.9833333 0.7583333\n",
       "V26   0.9107143 0.5000000\n",
       "V27   0.9428571 0.6285714\n",
       "V28   0.9669421 0.5206612\n",
       "V29   0.9669421 0.5371901\n",
       "V30   1.0000000 0.3839286\n",
       "⋮     ⋮         ⋮        \n",
       "V972  0.9166667 0.7083333\n",
       "V973  0.8974359 0.3760684\n",
       "V974  0.9669421 0.4628099\n",
       "V975  0.9017857 0.4821429\n",
       "V976  0.9173554 0.6280992\n",
       "V977  0.9090909 0.5206612\n",
       "V978  0.9809524 0.3047619\n",
       "V979  0.9316239 0.4957265\n",
       "V980  0.8888889 0.8119658\n",
       "V981  0.8125000 0.5535714\n",
       "V982  1.0000000 0.4700855\n",
       "V983  0.8500000 0.4083333\n",
       "V984  0.9583333 0.3250000\n",
       "V985  0.9142857 0.5142857\n",
       "V986  0.8916667 0.5916667\n",
       "V987  0.9658120 0.4017094\n",
       "V988  0.9008264 0.5619835\n",
       "V989  0.9416667 0.5000000\n",
       "V990  0.9487179 0.5128205\n",
       "V991  0.9586777 0.7603306\n",
       "V992  0.9669421 0.6115702\n",
       "V993  0.9316239 0.4786325\n",
       "V994  0.7350427 0.5299145\n",
       "V995  0.9583333 0.6250000\n",
       "V996  0.9090909 0.4545455\n",
       "V997  0.9250000 0.5250000\n",
       "V998  0.7264957 0.6410256\n",
       "V999  0.8888889 0.5042735\n",
       "V1000 0.7812500 0.4791667\n",
       "Means 0.9169838 0.4982129"
      ]
     },
     "metadata": {},
     "output_type": "display_data"
    }
   ],
   "source": [
    "#Inside the folder of interest - write WD here - a new folder called FigAUC will be created \n",
    "\n",
    "WD <- paste(path.expand(\"~\"), \"/Documents/PhD/R/PipelineAll/\", sep=\"\") ### change this \n",
    "setwd(WD)\n",
    "\n",
    "dir.create(file.path(WD, \"FigAUC\"), showWarnings = FALSE)\n",
    "\n",
    "trial <- NULL\n",
    "test_name <- \"Laura\"\n",
    "\n",
    "singleAUC <- as.data.frame(singleAUC)\n",
    "singleAUC <- mutate(singleAUC, Means=rowMeans(singleAUC))\n",
    "row.names(singleAUC) <- names(xtrain)\n",
    "\n",
    "singleAUCR <- as.data.frame(singleAUCR)\n",
    "singleAUCR <- mutate(singleAUCR, Means=rowMeans(singleAUCR))\n",
    "row.names(singleAUCR) <- names(xtrain)\n",
    "\n",
    "multipleAUCR <- as.data.frame(multipleAUCR)\n",
    "multipleAUCR[\"Means\"] <- rowMeans(as.data.frame(multipleAUCR))\n",
    "\n",
    "multipleAUC <- as.data.frame(multipleAUC)\n",
    "multipleAUC[\"Means\"] <- rowMeans(as.data.frame(multipleAUC))\n",
    "\n",
    "Final <- data.frame(Multi=t(multipleAUC),MultiRand=t(multipleAUCR) )\n",
    "FinalMeans <- data.frame(Multi=multipleAUC$Means,MultiRand=multipleAUCR$Means )\n",
    "\n",
    "MonoSingle <- plotAUCSingle(singleAUC, singleAUCR,NumVar,test_name)\n",
    "\n",
    "names <-names(Betas_select2)\n",
    "names1 <-as.character(names)\n",
    "names1 <-strsplit(names1,\", \")\n",
    "names1 <-as.data.frame(names1)\n",
    "\n",
    "MonoMultiple <- plotAUCMultiple(multipleAUC, multipleAUCR,2,test_name)\n",
    "\n",
    "Total <- data.frame(Single=singleAUC$Means,SingleRandom=singleAUCR$Means)\n",
    "m <-length(names)\n",
    "rownames(Total) <- colnames(Betas_select)[1:(length(names)-1)]\n",
    "\n",
    "summary(MonoMultiple)\n",
    "head(singleAUC)\n",
    "Final\n"
   ]
  },
  {
   "cell_type": "code",
   "execution_count": 13,
   "metadata": {
    "scrolled": false
   },
   "outputs": [
    {
     "name": "stdout",
     "output_type": "stream",
     "text": [
      "                                                     Real Permuted_Data\n",
      "NISS                                            0.7218593     0.4987154\n",
      "First Time Monocytes %                          0.7216360     0.4910774\n",
      "Third Time CD63 (MedFI)                         0.7050690     0.5019048\n",
      "Third Time Decrease in CD62L after FMLF (MedFI) 0.7260258     0.5000617\n",
      "Multivariate                                    0.9169838     0.4982129\n",
      "                                                                                          Names\n",
      "NISS                                                                                       NISS\n",
      "First Time Monocytes %                                                   First Time Monocytes %\n",
      "Third Time CD63 (MedFI)                                                 Third Time CD63 (MedFI)\n",
      "Third Time Decrease in CD62L after FMLF (MedFI) Third Time Decrease in CD62L after FMLF (MedFI)\n",
      "Multivariate                                                                       Multivariate\n"
     ]
    },
    {
     "data": {
      "image/png": "[encoded data removed]",
      "text/plain": [
       "plot without title"
      ]
     },
     "metadata": {},
     "output_type": "display_data"
    }
   ],
   "source": [
    "#Plots\n",
    "\n",
    "MeansMultiple <- FinalMeans\n",
    "MeansSingle <- Total[,c(1,2)]\n",
    "\n",
    "\n",
    "colnames(MeansSingle) <- c(\"Real\", \"Permuted_Data\")\n",
    "Total <- rbind(MeansSingle, Multivariate=data.frame(Real=MeansMultiple$Multi,Permuted_Data=MeansMultiple$MultiRand))\n",
    "Total[\"Names\"]<- rownames(Total)\n",
    "\n",
    "print(Total)\n",
    "\n",
    "plot1 <- ggplot(Total, aes(y=Names, x=Permuted_Data,xend=Real))+geom_dumbbell(color=\"cornflowerblue\", size=1.5, point.colour.l=\"goldenrod1\")+theme(axis.text.x = element_text(angle = 90), axis.text=element_text(size=14),axis.title=element_text(size=18),strip.text.x = element_text(size = 8, colour = \"black\"),axis.title.y = element_text(margin = margin(t = 0, r = 10, b = 0, l = 0)),axis.title.x = element_text(margin = margin(t = 10, r = 0, b = 0, l = 0)))+labs(x=\"AUC values\",y=\"Selected Features\")+xlim(0.4,1)\n",
    "saveRDS(plot1, paste(\"Results/\",test_name, \"_Finalplot.rds\"))\n",
    "\n",
    "\n",
    "#multipleAUCR <- singleAUC[4,]\n",
    "#row.names(multipleAUCR) <- NULL\n",
    "\n",
    "val <- 2\n",
    "\n",
    "Meanq <- data.frame(multipleAUC$Means,multipleAUCR$Means)\n",
    "  MA <- data.frame(Mono=t(multipleAUC[1:dim(multipleAUC)[2]-1]))\n",
    " \n",
    "  MAR<-data.frame(Mono=t(multipleAUCR[1:dim(multipleAUCR)[2]-1]))\n",
    " \n",
    "  MA[\"Label\"]<-as.factor(c(rep(\"Multivariate model\",dim(MA)[1])))\n",
    "  MAR[\"Label\"]<-as.factor(c(rep(\"NISS alone\",dim(MAR)[1])))\n",
    "  \n",
    "  Mono<-rbind(MA,MAR)\n",
    "  \n",
    "pp <-ggdensity(Mono, x = \"Mono\", fill = \"Label\", palette = \"jco\")+geom_vline(xintercept=Meanq[1,1],linetype = 2,color=\"black\",show.legend = TRUE)+\n",
    "    labs(title= paste(\"AUC Density Plot of GLM Multivariate Model\"),y=\"Density\",x=\"AUC values\")+\n",
    "    geom_text(aes(x=as.numeric(Meanq[1,1]),y=-0.5,label=signif(Meanq[1,1], digits = 2)),size=6.5)+\n",
    "    geom_text(aes(x=as.numeric(Meanq[1,2]),y=-0.5,label=signif(Meanq[1,2], digits = 2)),size=6.5)\n",
    "  \n",
    "plot2 <- pp+geom_vline(xintercept=Meanq[1,2],linetype = 2,color=\"black\",show.legend = TRUE)+theme(axis.text=element_text(size=18),axis.title=element_text(size=18),strip.text.x = element_text(size = 18, colour = \"black\"),\n",
    "  axis.title.x = element_text(margin = margin(t = 10, r = 0, b = 0, l = 0)))+labs(x=\"AUC values\",y=\"Density\")\n",
    "\n",
    "#pdf(\"/Users/laura/Desktop/FinalPaper/FinalPlot07NAs1NISS.pdf\",width=15, height=5)\n",
    "\n",
    "save5 <- grid.arrange(arrangeGrob(plot1,plot2, ncol=2), ncol=1)\n",
    "\n",
    "#graphics.off()\n",
    "\n"
   ]
  },
  {
   "cell_type": "code",
   "execution_count": 14,
   "metadata": {},
   "outputs": [
    {
     "data": {
      "image/png": "[encoded data removed]",
      "text/plain": [
       "plot without title"
      ]
     },
     "metadata": {},
     "output_type": "display_data"
    }
   ],
   "source": [
    "dd<- data.frame(Random=as.numeric(multipleAUCR[1,]),Normal=as.numeric(multipleAUC[1,]))\n",
    "ddsd <- format(round(sd(dd$Random), 3), nsmall = 3)\n",
    "ddsd2 <- format(round(sd(dd$Normal), 3), nsmall = 3)\n",
    "\n",
    "count2 <- 0\n",
    "count <- list()\n",
    "gg <- 0 \n",
    "ss <- 0\n",
    "\n",
    "\n",
    "for (i in 1:(length(as.numeric(multipleAUCR[1,]))-1)){\n",
    "  ss <- ss+1 \n",
    "  for (j in 1:(length(as.numeric(multipleAUCR[1,]))-1)){\n",
    "    gg <- gg+1\n",
    "    if (dd$Random[i] > dd$Normal[j]){\n",
    "      count2 <- count2 + 1\n",
    "      \n",
    "    }\n",
    "  }\n",
    "  count[i] <- count2\n",
    "  count2 <- 0\n",
    "}\n",
    "\n",
    "s <- data.frame(table(as.numeric(count)))\n",
    "pval <- length(s$Var1)/length(as.numeric(singleAUC[4,]))\n",
    "pval <- format(round(pval, 3), nsmall = 3)\n",
    "\n",
    "MeansMultiple$Multi <- format(round(as.numeric(MeansMultiple$Multi), 3), nsmall = 3)\n",
    "MeansMultiple$MultiRand <- format(round(as.numeric(MeansMultiple$MultiRand), 3), nsmall = 3)\n",
    "\n",
    "\n",
    "\n",
    "FinalVal <- paste(MeansMultiple$Multi,\"+/-\",ddsd2)\n",
    "FinalValRand <- paste(MeansMultiple$MultiRand,\"+/-\",ddsd)\n",
    "FinalTable<- data.frame(FinalVal,FinalValRand,pval)\n",
    "rownames(FinalTable) <- c(\"Multivariate\")\n",
    "names(FinalTable) <- c(\"  Model AUC    \",\"  Random Model AUC  \",\"  p value  \")\n",
    "\n",
    "\n",
    "mytheme <- gridExtra::ttheme_default(\n",
    "  core = list(fg_params=list(cex = 1.5)),\n",
    "  colhead = list(fg_params=list(cex = 1.5)),\n",
    "  rowhead = list(fg_params=list(cex = 1.5)))\n",
    "\n",
    "tbl <- tableGrob(FinalTable, theme=mytheme)\n",
    "\n",
    "#pdf(\"/Users/laura/Desktop/FinalPaper/FinalPlot07NAs2NISS.pdf\",width=13, height=6)\n",
    "\n",
    "grid.arrange(save5, tbl,\n",
    "             nrow=2,\n",
    "             as.table=TRUE,\n",
    "             heights=c(2,1))\n",
    "\n",
    "#graphics.off()"
   ]
  },
  {
   "cell_type": "markdown",
   "metadata": {},
   "source": [
    "# Introduce the data set time point here to analyze individually"
   ]
  },
  {
   "cell_type": "code",
   "execution_count": 15,
   "metadata": {},
   "outputs": [
    {
     "data": {
      "text/html": [
       "<table>\n",
       "<thead><tr><th scope=col>NISS</th><th scope=col>First Time Monocytes %</th><th scope=col>Third Time CD63 (MedFI)</th><th scope=col>Third Time Decrease in CD62L after FMLF (MedFI)</th><th scope=col>Label</th></tr></thead>\n",
       "<tbody>\n",
       "\t<tr><td>-1.3838429 </td><td> 1.60389375</td><td>0.09697724 </td><td> 0.47460485</td><td>N          </td></tr>\n",
       "\t<tr><td>-0.8027674 </td><td>-1.02732594</td><td>0.29728126 </td><td>-0.24538442</td><td>Y          </td></tr>\n",
       "\t<tr><td>-1.0668926 </td><td>-0.58878932</td><td>1.60334526 </td><td>-0.04596122</td><td>N          </td></tr>\n",
       "\t<tr><td>-1.3310178 </td><td>-0.28181369</td><td>0.78322291 </td><td>-0.88608111</td><td>N          </td></tr>\n",
       "\t<tr><td>-0.1688669 </td><td> 0.02516194</td><td>0.07551609 </td><td>-0.57745420</td><td>Y          </td></tr>\n",
       "\t<tr><td>-1.3838429 </td><td> 0.33213757</td><td>0.07500511 </td><td> 1.32737483</td><td>N          </td></tr>\n",
       "</tbody>\n",
       "</table>\n"
      ],
      "text/latex": [
       "\\begin{tabular}{r|lllll}\n",
       " NISS & First Time Monocytes \\% & Third Time CD63 (MedFI) & Third Time Decrease in CD62L after FMLF (MedFI) & Label\\\\\n",
       "\\hline\n",
       "\t -1.3838429  &  1.60389375 & 0.09697724  &  0.47460485 & N          \\\\\n",
       "\t -0.8027674  & -1.02732594 & 0.29728126  & -0.24538442 & Y          \\\\\n",
       "\t -1.0668926  & -0.58878932 & 1.60334526  & -0.04596122 & N          \\\\\n",
       "\t -1.3310178  & -0.28181369 & 0.78322291  & -0.88608111 & N          \\\\\n",
       "\t -0.1688669  &  0.02516194 & 0.07551609  & -0.57745420 & Y          \\\\\n",
       "\t -1.3838429  &  0.33213757 & 0.07500511  &  1.32737483 & N          \\\\\n",
       "\\end{tabular}\n"
      ],
      "text/markdown": [
       "\n",
       "NISS | First Time Monocytes % | Third Time CD63 (MedFI) | Third Time Decrease in CD62L after FMLF (MedFI) | Label | \n",
       "|---|---|---|---|---|---|\n",
       "| -1.3838429  |  1.60389375 | 0.09697724  |  0.47460485 | N           | \n",
       "| -0.8027674  | -1.02732594 | 0.29728126  | -0.24538442 | Y           | \n",
       "| -1.0668926  | -0.58878932 | 1.60334526  | -0.04596122 | N           | \n",
       "| -1.3310178  | -0.28181369 | 0.78322291  | -0.88608111 | N           | \n",
       "| -0.1688669  |  0.02516194 | 0.07551609  | -0.57745420 | Y           | \n",
       "| -1.3838429  |  0.33213757 | 0.07500511  |  1.32737483 | N           | \n",
       "\n",
       "\n"
      ],
      "text/plain": [
       "  NISS       First Time Monocytes % Third Time CD63 (MedFI)\n",
       "1 -1.3838429  1.60389375            0.09697724             \n",
       "2 -0.8027674 -1.02732594            0.29728126             \n",
       "3 -1.0668926 -0.58878932            1.60334526             \n",
       "4 -1.3310178 -0.28181369            0.78322291             \n",
       "5 -0.1688669  0.02516194            0.07551609             \n",
       "6 -1.3838429  0.33213757            0.07500511             \n",
       "  Third Time Decrease in CD62L after FMLF (MedFI) Label\n",
       "1  0.47460485                                     N    \n",
       "2 -0.24538442                                     Y    \n",
       "3 -0.04596122                                     N    \n",
       "4 -0.88608111                                     N    \n",
       "5 -0.57745420                                     Y    \n",
       "6  1.32737483                                     N    "
      ]
     },
     "metadata": {},
     "output_type": "display_data"
    },
    {
     "data": {
      "image/png": "[encoded data removed]",
      "text/plain": [
       "plot without title"
      ]
     },
     "metadata": {},
     "output_type": "display_data"
    }
   ],
   "source": [
    "head(Betas_select2)\n",
    "Subset <- Betas_select2[,-c(length(names(Betas_select2)))]\n",
    "corr <-cor(Subset)\n",
    "P_Cor <- cor_pmat(Subset)\n",
    "print(ggcorrplot(corr,title=paste0(\"Selected Features\"),tl.cex=10,tl.srt = 90,p.mat = P_Cor, sig.level = 0.01, insig = \"blank\"))\n",
    "\n"
   ]
  }
 ],
 "metadata": {
  "kernelspec": {
   "display_name": "R",
   "language": "R",
   "name": "ir"
  },
  "language_info": {
   "codemirror_mode": "r",
   "file_extension": ".r",
   "mimetype": "text/x-r-source",
   "name": "R",
   "pygments_lexer": "r",
   "version": "3.5.1"
  }
 },
 "nbformat": 4,
 "nbformat_minor": 2
}
